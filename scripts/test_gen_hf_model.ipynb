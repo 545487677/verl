{
 "cells": [
  {
   "cell_type": "code",
   "execution_count": 5,
   "id": "ea622e42",
   "metadata": {},
   "outputs": [
    {
     "name": "stderr",
     "output_type": "stream",
     "text": [
      "Loading checkpoint shards:   0%|          | 0/4 [00:00<?, ?it/s]\rLoading checkpoint shards: 100%|██████████| 4/4 [00:00<00:00, 60.90it/s]\n",
      "/root/miniconda3/lib/python3.10/site-packages/transformers/generation/configuration_utils.py:631: UserWarning: `do_sample` is set to `False`. However, `temperature` is set to `0.7` -- this flag is only used in sample-based generation modes. You should set `do_sample=True` or unset `temperature`.\n",
      "  warnings.warn(\n",
      "/root/miniconda3/lib/python3.10/site-packages/transformers/generation/configuration_utils.py:636: UserWarning: `do_sample` is set to `False`. However, `top_p` is set to `0.8` -- this flag is only used in sample-based generation modes. You should set `do_sample=True` or unset `top_p`.\n",
      "  warnings.warn(\n",
      "/root/miniconda3/lib/python3.10/site-packages/transformers/generation/configuration_utils.py:653: UserWarning: `do_sample` is set to `False`. However, `top_k` is set to `20` -- this flag is only used in sample-based generation modes. You should set `do_sample=True` or unset `top_k`.\n",
      "  warnings.warn(\n"
     ]
    },
    {
     "name": "stdout",
     "output_type": "stream",
     "text": [
      "Weng earns $12 an hour for babysitting. Yesterday, she just did 50 minutes of babysitting. How much did she earn? Let's think step by step and output the final answer after \"####\". To determine how much Weng earned for 50 minutes of babysitting at a rate of $12 per hour, we can follow these steps:\n",
      "\n",
      "1. **Convert the time from minutes to hours:**\n",
      "   - There are 60 minutes in an hour.\n",
      "   - Therefore, 50 minutes is \\(\\frac{50}{60}\\) of an hour.\n",
      "   - Simplify \\(\\frac{50}{60}\\):\n",
      "     \\[\n",
      "     \\frac{50}{60} = \\frac{5}{6}\n",
      "     \\]\n",
      "\n",
      "2. **Calculate the earnings:**\n",
      "   - Weng earns $12 per hour.\n",
      "   - For \\(\\frac{5}{6}\\) of an hour, her earnings are:\n",
      "     \\[\n",
      "     12 \\times \\frac{5}{6}\n",
      "     \\]\n",
      "   - Perform the multiplication:\n",
      "     \\[\n",
      "     12 \\times \\frac{5}{6} = 12 \\times \\frac{5}{6} = 12 \\times \\left( \\frac{5}{6} \\right) = 12 \\times \\left( \\frac{5}{6} \\right) = 12 \\times \\left( \\frac{5}{6} \\right) = 10\n",
      "     \\]\n",
      "\n",
      "So, Weng earned \\(\\boxed{10}\\) dollars.\n",
      "\n",
      "#### 10\n"
     ]
    }
   ],
   "source": [
    "from transformers import AutoTokenizer, AutoModelForCausalLM\n",
    "import torch\n",
    "\n",
    "# 模型路径（你合并后的模型目录）\n",
    "model_path = \"/vepfs/fs_ckps/guojianz/llm/verl_exp/verl_grpo_example_gsm8k_reimplement/qwen2_7b_function_rm/merged_hf_model\"\n",
    "\n",
    "# 加载 tokenizer 和模型\n",
    "tokenizer = AutoTokenizer.from_pretrained(model_path, trust_remote_code=True)\n",
    "model = AutoModelForCausalLM.from_pretrained(model_path, torch_dtype=torch.bfloat16, trust_remote_code=True).to(\"cuda\")\n",
    "\n",
    "# 构造输入\n",
    "prompt = 'Weng earns $12 an hour for babysitting. Yesterday, she just did 50 minutes of babysitting. How much did she earn? Let\\'s think step by step and output the final answer after \"####\".'\n",
    "inputs = tokenizer(prompt, return_tensors=\"pt\").to(\"cuda\")\n",
    "\n",
    "# 推理\n",
    "with torch.no_grad():\n",
    "    outputs = model.generate(**inputs, max_new_tokens=1024, do_sample=False)\n",
    "    print(tokenizer.decode(outputs[0], skip_special_tokens=True))\n"
   ]
  }
 ],
 "metadata": {
  "kernelspec": {
   "display_name": "base",
   "language": "python",
   "name": "python3"
  },
  "language_info": {
   "codemirror_mode": {
    "name": "ipython",
    "version": 3
   },
   "file_extension": ".py",
   "mimetype": "text/x-python",
   "name": "python",
   "nbconvert_exporter": "python",
   "pygments_lexer": "ipython3",
   "version": "3.10.15"
  },
  "vscode": {
   "interpreter": {
    "hash": "2f394aca7ca06fed1e6064aef884364492d7cdda3614a461e02e6407fc40ba69"
   }
  }
 },
 "nbformat": 4,
 "nbformat_minor": 5
}
