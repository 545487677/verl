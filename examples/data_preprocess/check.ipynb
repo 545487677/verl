{
 "cells": [
  {
   "cell_type": "code",
   "execution_count": 1,
   "metadata": {},
   "outputs": [
    {
     "data": {
      "text/html": [
       "<div>\n",
       "<style scoped>\n",
       "    .dataframe tbody tr th:only-of-type {\n",
       "        vertical-align: middle;\n",
       "    }\n",
       "\n",
       "    .dataframe tbody tr th {\n",
       "        vertical-align: top;\n",
       "    }\n",
       "\n",
       "    .dataframe thead th {\n",
       "        text-align: right;\n",
       "    }\n",
       "</style>\n",
       "<table border=\"1\" class=\"dataframe\">\n",
       "  <thead>\n",
       "    <tr style=\"text-align: right;\">\n",
       "      <th></th>\n",
       "      <th>data_source</th>\n",
       "      <th>prompt</th>\n",
       "      <th>ability</th>\n",
       "      <th>reward_model</th>\n",
       "      <th>extra_info</th>\n",
       "      <th>responses</th>\n",
       "    </tr>\n",
       "  </thead>\n",
       "  <tbody>\n",
       "    <tr>\n",
       "      <th>0</th>\n",
       "      <td>openai/gsm8k</td>\n",
       "      <td>[{'content': 'Janet’s ducks lay 16 eggs per da...</td>\n",
       "      <td>math</td>\n",
       "      <td>{'ground_truth': '18', 'style': 'rule'}</td>\n",
       "      <td>{'answer': 'Janet sells 16 - 3 - 4 = &lt;&lt;16-3-4=...</td>\n",
       "      <td>[Janet's ducks lay 16 eggs per day. She eats t...</td>\n",
       "    </tr>\n",
       "    <tr>\n",
       "      <th>1</th>\n",
       "      <td>openai/gsm8k</td>\n",
       "      <td>[{'content': 'A robe takes 2 bolts of blue fib...</td>\n",
       "      <td>math</td>\n",
       "      <td>{'ground_truth': '3', 'style': 'rule'}</td>\n",
       "      <td>{'answer': 'It takes 2/2=&lt;&lt;2/2=1&gt;&gt;1 bolt of wh...</td>\n",
       "      <td>[Certainly! Let's break down the problem step ...</td>\n",
       "    </tr>\n",
       "    <tr>\n",
       "      <th>2</th>\n",
       "      <td>openai/gsm8k</td>\n",
       "      <td>[{'content': 'Josh decides to try flipping a h...</td>\n",
       "      <td>math</td>\n",
       "      <td>{'ground_truth': '70000', 'style': 'rule'}</td>\n",
       "      <td>{'answer': 'The cost of the house and repairs ...</td>\n",
       "      <td>[Josh bought the house for $80,000 and put in ...</td>\n",
       "    </tr>\n",
       "    <tr>\n",
       "      <th>3</th>\n",
       "      <td>openai/gsm8k</td>\n",
       "      <td>[{'content': 'James decides to run 3 sprints 3...</td>\n",
       "      <td>math</td>\n",
       "      <td>{'ground_truth': '540', 'style': 'rule'}</td>\n",
       "      <td>{'answer': 'He sprints 3*3=&lt;&lt;3*3=9&gt;&gt;9 times\n",
       "So...</td>\n",
       "      <td>[James runs 3 sprints per week, and each sprin...</td>\n",
       "    </tr>\n",
       "    <tr>\n",
       "      <th>4</th>\n",
       "      <td>openai/gsm8k</td>\n",
       "      <td>[{'content': 'Every day, Wendi feeds each of h...</td>\n",
       "      <td>math</td>\n",
       "      <td>{'ground_truth': '20', 'style': 'rule'}</td>\n",
       "      <td>{'answer': 'If each chicken eats 3 cups of fee...</td>\n",
       "      <td>[To determine how many cups of feed Wendi need...</td>\n",
       "    </tr>\n",
       "  </tbody>\n",
       "</table>\n",
       "</div>"
      ],
      "text/plain": [
       "    data_source                                             prompt ability  \\\n",
       "0  openai/gsm8k  [{'content': 'Janet’s ducks lay 16 eggs per da...    math   \n",
       "1  openai/gsm8k  [{'content': 'A robe takes 2 bolts of blue fib...    math   \n",
       "2  openai/gsm8k  [{'content': 'Josh decides to try flipping a h...    math   \n",
       "3  openai/gsm8k  [{'content': 'James decides to run 3 sprints 3...    math   \n",
       "4  openai/gsm8k  [{'content': 'Every day, Wendi feeds each of h...    math   \n",
       "\n",
       "                                 reward_model  \\\n",
       "0     {'ground_truth': '18', 'style': 'rule'}   \n",
       "1      {'ground_truth': '3', 'style': 'rule'}   \n",
       "2  {'ground_truth': '70000', 'style': 'rule'}   \n",
       "3    {'ground_truth': '540', 'style': 'rule'}   \n",
       "4     {'ground_truth': '20', 'style': 'rule'}   \n",
       "\n",
       "                                          extra_info  \\\n",
       "0  {'answer': 'Janet sells 16 - 3 - 4 = <<16-3-4=...   \n",
       "1  {'answer': 'It takes 2/2=<<2/2=1>>1 bolt of wh...   \n",
       "2  {'answer': 'The cost of the house and repairs ...   \n",
       "3  {'answer': 'He sprints 3*3=<<3*3=9>>9 times\n",
       "So...   \n",
       "4  {'answer': 'If each chicken eats 3 cups of fee...   \n",
       "\n",
       "                                           responses  \n",
       "0  [Janet's ducks lay 16 eggs per day. She eats t...  \n",
       "1  [Certainly! Let's break down the problem step ...  \n",
       "2  [Josh bought the house for $80,000 and put in ...  \n",
       "3  [James runs 3 sprints per week, and each sprin...  \n",
       "4  [To determine how many cups of feed Wendi need...  "
      ]
     },
     "execution_count": 1,
     "metadata": {},
     "output_type": "execute_result"
    }
   ],
   "source": [
    "import pandas as pd\n",
    "\n",
    "path = \"/vepfs/fs_projects/FunMG/LLM/dataset/gsm8k/test-output-8.parquet\"\n",
    "data = pd.read_parquet(path)\n",
    "\n",
    "data.head()  # 查看前几行数据\n"
   ]
  },
  {
   "cell_type": "code",
   "execution_count": 2,
   "metadata": {},
   "outputs": [
    {
     "data": {
      "text/html": [
       "<div>\n",
       "<style scoped>\n",
       "    .dataframe tbody tr th:only-of-type {\n",
       "        vertical-align: middle;\n",
       "    }\n",
       "\n",
       "    .dataframe tbody tr th {\n",
       "        vertical-align: top;\n",
       "    }\n",
       "\n",
       "    .dataframe thead th {\n",
       "        text-align: right;\n",
       "    }\n",
       "</style>\n",
       "<table border=\"1\" class=\"dataframe\">\n",
       "  <thead>\n",
       "    <tr style=\"text-align: right;\">\n",
       "      <th></th>\n",
       "      <th>question</th>\n",
       "      <th>answer</th>\n",
       "    </tr>\n",
       "  </thead>\n",
       "  <tbody>\n",
       "    <tr>\n",
       "      <th>0</th>\n",
       "      <td>Janet’s ducks lay 16 eggs per day. She eats th...</td>\n",
       "      <td>Janet sells 16 - 3 - 4 = &lt;&lt;16-3-4=9&gt;&gt;9 duck eg...</td>\n",
       "    </tr>\n",
       "    <tr>\n",
       "      <th>1</th>\n",
       "      <td>A robe takes 2 bolts of blue fiber and half th...</td>\n",
       "      <td>It takes 2/2=&lt;&lt;2/2=1&gt;&gt;1 bolt of white fiber\\nS...</td>\n",
       "    </tr>\n",
       "    <tr>\n",
       "      <th>2</th>\n",
       "      <td>Josh decides to try flipping a house.  He buys...</td>\n",
       "      <td>The cost of the house and repairs came out to ...</td>\n",
       "    </tr>\n",
       "    <tr>\n",
       "      <th>3</th>\n",
       "      <td>James decides to run 3 sprints 3 times a week....</td>\n",
       "      <td>He sprints 3*3=&lt;&lt;3*3=9&gt;&gt;9 times\\nSo he runs 9*...</td>\n",
       "    </tr>\n",
       "    <tr>\n",
       "      <th>4</th>\n",
       "      <td>Every day, Wendi feeds each of her chickens th...</td>\n",
       "      <td>If each chicken eats 3 cups of feed per day, t...</td>\n",
       "    </tr>\n",
       "  </tbody>\n",
       "</table>\n",
       "</div>"
      ],
      "text/plain": [
       "                                            question  \\\n",
       "0  Janet’s ducks lay 16 eggs per day. She eats th...   \n",
       "1  A robe takes 2 bolts of blue fiber and half th...   \n",
       "2  Josh decides to try flipping a house.  He buys...   \n",
       "3  James decides to run 3 sprints 3 times a week....   \n",
       "4  Every day, Wendi feeds each of her chickens th...   \n",
       "\n",
       "                                              answer  \n",
       "0  Janet sells 16 - 3 - 4 = <<16-3-4=9>>9 duck eg...  \n",
       "1  It takes 2/2=<<2/2=1>>1 bolt of white fiber\\nS...  \n",
       "2  The cost of the house and repairs came out to ...  \n",
       "3  He sprints 3*3=<<3*3=9>>9 times\\nSo he runs 9*...  \n",
       "4  If each chicken eats 3 cups of feed per day, t...  "
      ]
     },
     "execution_count": 2,
     "metadata": {},
     "output_type": "execute_result"
    }
   ],
   "source": [
    "data.head()"
   ]
  },
  {
   "cell_type": "code",
   "execution_count": 6,
   "metadata": {},
   "outputs": [
    {
     "name": "stdout",
     "output_type": "stream",
     "text": [
      "    data_source                                             prompt ability  \\\n",
      "0  openai/gsm8k  [{'content': 'Natalia sold clips to 48 of her ...    math   \n",
      "1  openai/gsm8k  [{'content': 'Weng earns $12 an hour for babys...    math   \n",
      "2  openai/gsm8k  [{'content': 'Betty is saving money for a new ...    math   \n",
      "3  openai/gsm8k  [{'content': 'Julie is reading a 120-page book...    math   \n",
      "4  openai/gsm8k  [{'content': 'James writes a 3-page letter to ...    math   \n",
      "\n",
      "                               reward_model  \\\n",
      "0   {'ground_truth': '72', 'style': 'rule'}   \n",
      "1   {'ground_truth': '10', 'style': 'rule'}   \n",
      "2    {'ground_truth': '5', 'style': 'rule'}   \n",
      "3   {'ground_truth': '42', 'style': 'rule'}   \n",
      "4  {'ground_truth': '624', 'style': 'rule'}   \n",
      "\n",
      "                                          extra_info  \n",
      "0  {'answer': 'Natalia sold 48/2 = <<48/2=24>>24 ...  \n",
      "1  {'answer': 'Weng earns 12/60 = $<<12/60=0.2>>0...  \n",
      "2  {'answer': 'In the beginning, Betty has only 1...  \n",
      "3  {'answer': 'Maila read 12 x 2 = <<12*2=24>>24 ...  \n",
      "4  {'answer': 'He writes each friend 3*2=<<3*2=6>...  \n"
     ]
    }
   ],
   "source": [
    "import pandas as pd\n",
    "\n",
    "path = \"/vepfs/fs_projects/FunMG/LLM/dataset/gsm8k/train.parquet\"\n",
    "data = pd.read_parquet(path)\n",
    "\n",
    "print(data.head())  # 查看前几行数据\n"
   ]
  },
  {
   "cell_type": "code",
   "execution_count": 8,
   "metadata": {},
   "outputs": [
    {
     "data": {
      "text/plain": [
       "array([{'content': 'Weng earns $12 an hour for babysitting. Yesterday, she just did 50 minutes of babysitting. How much did she earn? Let\\'s think step by step and output the final answer after \"####\".', 'role': 'user'}],\n",
       "      dtype=object)"
      ]
     },
     "execution_count": 8,
     "metadata": {},
     "output_type": "execute_result"
    }
   ],
   "source": [
    "data.iloc[1, :]['prompt']"
   ]
  },
  {
   "cell_type": "code",
   "execution_count": null,
   "metadata": {},
   "outputs": [
    {
     "data": {
      "text/plain": [
       "{'ground_truth': '10', 'style': 'rule'}"
      ]
     },
     "execution_count": 9,
     "metadata": {},
     "output_type": "execute_result"
    }
   ],
   "source": [
    "data.iloc[1, :]['reward_model']"
   ]
  },
  {
   "cell_type": "code",
   "execution_count": 10,
   "metadata": {},
   "outputs": [
    {
     "name": "stdout",
     "output_type": "stream",
     "text": [
      "   target          nums data_source  \\\n",
      "0      98  [44, 19, 35]   countdown   \n",
      "1      64  [63, 95, 96]   countdown   \n",
      "2      28  [95, 11, 56]   countdown   \n",
      "3      48  [19, 74, 45]   countdown   \n",
      "4      17  [49, 41, 73]   countdown   \n",
      "\n",
      "                                              prompt ability  \\\n",
      "0  [{'content': 'A conversation between User and ...    math   \n",
      "1  [{'content': 'A conversation between User and ...    math   \n",
      "2  [{'content': 'A conversation between User and ...    math   \n",
      "3  [{'content': 'A conversation between User and ...    math   \n",
      "4  [{'content': 'A conversation between User and ...    math   \n",
      "\n",
      "                                        reward_model  \\\n",
      "0  {'ground_truth': {'numbers': [44, 19, 35], 'ta...   \n",
      "1  {'ground_truth': {'numbers': [63, 95, 96], 'ta...   \n",
      "2  {'ground_truth': {'numbers': [95, 11, 56], 'ta...   \n",
      "3  {'ground_truth': {'numbers': [19, 74, 45], 'ta...   \n",
      "4  {'ground_truth': {'numbers': [49, 41, 73], 'ta...   \n",
      "\n",
      "                       extra_info  \n",
      "0  {'index': 0, 'split': 'train'}  \n",
      "1  {'index': 1, 'split': 'train'}  \n",
      "2  {'index': 2, 'split': 'train'}  \n",
      "3  {'index': 3, 'split': 'train'}  \n",
      "4  {'index': 4, 'split': 'train'}  \n"
     ]
    }
   ],
   "source": [
    "import pandas as pd\n",
    "\n",
    "path = \"/vepfs/fs_projects/FunMG/LLM/dataset/countdown/train.parquet\"\n",
    "data = pd.read_parquet(path)\n",
    "\n",
    "print(data.head())  # 查看前几行数据\n",
    "\n",
    "\n"
   ]
  },
  {
   "cell_type": "code",
   "execution_count": 11,
   "metadata": {},
   "outputs": [
    {
     "data": {
      "text/html": [
       "<div>\n",
       "<style scoped>\n",
       "    .dataframe tbody tr th:only-of-type {\n",
       "        vertical-align: middle;\n",
       "    }\n",
       "\n",
       "    .dataframe tbody tr th {\n",
       "        vertical-align: top;\n",
       "    }\n",
       "\n",
       "    .dataframe thead th {\n",
       "        text-align: right;\n",
       "    }\n",
       "</style>\n",
       "<table border=\"1\" class=\"dataframe\">\n",
       "  <thead>\n",
       "    <tr style=\"text-align: right;\">\n",
       "      <th></th>\n",
       "      <th>target</th>\n",
       "      <th>nums</th>\n",
       "      <th>data_source</th>\n",
       "      <th>prompt</th>\n",
       "      <th>ability</th>\n",
       "      <th>reward_model</th>\n",
       "      <th>extra_info</th>\n",
       "    </tr>\n",
       "  </thead>\n",
       "  <tbody>\n",
       "    <tr>\n",
       "      <th>0</th>\n",
       "      <td>98</td>\n",
       "      <td>[44, 19, 35]</td>\n",
       "      <td>countdown</td>\n",
       "      <td>[{'content': 'A conversation between User and ...</td>\n",
       "      <td>math</td>\n",
       "      <td>{'ground_truth': {'numbers': [44, 19, 35], 'ta...</td>\n",
       "      <td>{'index': 0, 'split': 'train'}</td>\n",
       "    </tr>\n",
       "    <tr>\n",
       "      <th>1</th>\n",
       "      <td>64</td>\n",
       "      <td>[63, 95, 96]</td>\n",
       "      <td>countdown</td>\n",
       "      <td>[{'content': 'A conversation between User and ...</td>\n",
       "      <td>math</td>\n",
       "      <td>{'ground_truth': {'numbers': [63, 95, 96], 'ta...</td>\n",
       "      <td>{'index': 1, 'split': 'train'}</td>\n",
       "    </tr>\n",
       "    <tr>\n",
       "      <th>2</th>\n",
       "      <td>28</td>\n",
       "      <td>[95, 11, 56]</td>\n",
       "      <td>countdown</td>\n",
       "      <td>[{'content': 'A conversation between User and ...</td>\n",
       "      <td>math</td>\n",
       "      <td>{'ground_truth': {'numbers': [95, 11, 56], 'ta...</td>\n",
       "      <td>{'index': 2, 'split': 'train'}</td>\n",
       "    </tr>\n",
       "    <tr>\n",
       "      <th>3</th>\n",
       "      <td>48</td>\n",
       "      <td>[19, 74, 45]</td>\n",
       "      <td>countdown</td>\n",
       "      <td>[{'content': 'A conversation between User and ...</td>\n",
       "      <td>math</td>\n",
       "      <td>{'ground_truth': {'numbers': [19, 74, 45], 'ta...</td>\n",
       "      <td>{'index': 3, 'split': 'train'}</td>\n",
       "    </tr>\n",
       "    <tr>\n",
       "      <th>4</th>\n",
       "      <td>17</td>\n",
       "      <td>[49, 41, 73]</td>\n",
       "      <td>countdown</td>\n",
       "      <td>[{'content': 'A conversation between User and ...</td>\n",
       "      <td>math</td>\n",
       "      <td>{'ground_truth': {'numbers': [49, 41, 73], 'ta...</td>\n",
       "      <td>{'index': 4, 'split': 'train'}</td>\n",
       "    </tr>\n",
       "  </tbody>\n",
       "</table>\n",
       "</div>"
      ],
      "text/plain": [
       "   target          nums data_source  \\\n",
       "0      98  [44, 19, 35]   countdown   \n",
       "1      64  [63, 95, 96]   countdown   \n",
       "2      28  [95, 11, 56]   countdown   \n",
       "3      48  [19, 74, 45]   countdown   \n",
       "4      17  [49, 41, 73]   countdown   \n",
       "\n",
       "                                              prompt ability  \\\n",
       "0  [{'content': 'A conversation between User and ...    math   \n",
       "1  [{'content': 'A conversation between User and ...    math   \n",
       "2  [{'content': 'A conversation between User and ...    math   \n",
       "3  [{'content': 'A conversation between User and ...    math   \n",
       "4  [{'content': 'A conversation between User and ...    math   \n",
       "\n",
       "                                        reward_model  \\\n",
       "0  {'ground_truth': {'numbers': [44, 19, 35], 'ta...   \n",
       "1  {'ground_truth': {'numbers': [63, 95, 96], 'ta...   \n",
       "2  {'ground_truth': {'numbers': [95, 11, 56], 'ta...   \n",
       "3  {'ground_truth': {'numbers': [19, 74, 45], 'ta...   \n",
       "4  {'ground_truth': {'numbers': [49, 41, 73], 'ta...   \n",
       "\n",
       "                       extra_info  \n",
       "0  {'index': 0, 'split': 'train'}  \n",
       "1  {'index': 1, 'split': 'train'}  \n",
       "2  {'index': 2, 'split': 'train'}  \n",
       "3  {'index': 3, 'split': 'train'}  \n",
       "4  {'index': 4, 'split': 'train'}  "
      ]
     },
     "execution_count": 11,
     "metadata": {},
     "output_type": "execute_result"
    }
   ],
   "source": [
    "data.head()"
   ]
  },
  {
   "cell_type": "code",
   "execution_count": 16,
   "metadata": {},
   "outputs": [
    {
     "name": "stdout",
     "output_type": "stream",
     "text": [
      "A conversation between User and Assistant. The user asks a question, and the Assistant solves it. The assistant first thinks about the reasoning process in the mind and then provides the user with the answer.\n",
      "User: Using the numbers [63, 95, 96], create an equation that equals 64. You can use basic arithmetic operations (+, -, *, /) and each number can only be used once. Show your work in <think> </think> tags. And return the final answer in <answer> </answer> tags, for example <answer> (1 + 2) / 3 </answer>.\n",
      "Assistant: Let me solve this step by step.\n",
      "<think>\n"
     ]
    }
   ],
   "source": [
    "print(data.iloc[1, :]['prompt'][0]['content'])"
   ]
  },
  {
   "cell_type": "code",
   "execution_count": 19,
   "metadata": {},
   "outputs": [
    {
     "data": {
      "text/plain": [
       "{'ground_truth': {'numbers': array([63, 95, 96]), 'target': 64},\n",
       " 'style': 'rule'}"
      ]
     },
     "execution_count": 19,
     "metadata": {},
     "output_type": "execute_result"
    }
   ],
   "source": [
    "data.iloc[1, :]['reward_model']"
   ]
  },
  {
   "cell_type": "code",
   "execution_count": null,
   "metadata": {},
   "outputs": [],
   "source": [
    "print(data.iloc[1, :]['prompt'][0]['content'])"
   ]
  },
  {
   "cell_type": "code",
   "execution_count": 20,
   "metadata": {},
   "outputs": [
    {
     "data": {
      "text/html": [
       "<div>\n",
       "<style scoped>\n",
       "    .dataframe tbody tr th:only-of-type {\n",
       "        vertical-align: middle;\n",
       "    }\n",
       "\n",
       "    .dataframe tbody tr th {\n",
       "        vertical-align: top;\n",
       "    }\n",
       "\n",
       "    .dataframe thead th {\n",
       "        text-align: right;\n",
       "    }\n",
       "</style>\n",
       "<table border=\"1\" class=\"dataframe\">\n",
       "  <thead>\n",
       "    <tr style=\"text-align: right;\">\n",
       "      <th></th>\n",
       "      <th>target</th>\n",
       "      <th>nums</th>\n",
       "    </tr>\n",
       "  </thead>\n",
       "  <tbody>\n",
       "    <tr>\n",
       "      <th>0</th>\n",
       "      <td>98</td>\n",
       "      <td>[44, 19, 35]</td>\n",
       "    </tr>\n",
       "    <tr>\n",
       "      <th>1</th>\n",
       "      <td>64</td>\n",
       "      <td>[63, 95, 96]</td>\n",
       "    </tr>\n",
       "    <tr>\n",
       "      <th>2</th>\n",
       "      <td>28</td>\n",
       "      <td>[95, 11, 56]</td>\n",
       "    </tr>\n",
       "    <tr>\n",
       "      <th>3</th>\n",
       "      <td>48</td>\n",
       "      <td>[19, 74, 45]</td>\n",
       "    </tr>\n",
       "    <tr>\n",
       "      <th>4</th>\n",
       "      <td>17</td>\n",
       "      <td>[49, 41, 73]</td>\n",
       "    </tr>\n",
       "  </tbody>\n",
       "</table>\n",
       "</div>"
      ],
      "text/plain": [
       "   target          nums\n",
       "0      98  [44, 19, 35]\n",
       "1      64  [63, 95, 96]\n",
       "2      28  [95, 11, 56]\n",
       "3      48  [19, 74, 45]\n",
       "4      17  [49, 41, 73]"
      ]
     },
     "execution_count": 20,
     "metadata": {},
     "output_type": "execute_result"
    }
   ],
   "source": [
    "\n",
    "import pandas as pd\n",
    "\n",
    "path = \"/vepfs/fs_projects/FunMG/LLM/dataset/datasets--Jiayi-Pan--Countdown-Tasks-3to4/snapshots/408f70d177020686d34a56bba5952feb45aaaee4/data/train-00000-of-00001.parquet\"\n",
    "data = pd.read_parquet(path)\n",
    "\n",
    "data.head()\n",
    "\n",
    "\n"
   ]
  },
  {
   "cell_type": "code",
   "execution_count": 1,
   "metadata": {},
   "outputs": [
    {
     "data": {
      "text/html": [
       "<div>\n",
       "<style scoped>\n",
       "    .dataframe tbody tr th:only-of-type {\n",
       "        vertical-align: middle;\n",
       "    }\n",
       "\n",
       "    .dataframe tbody tr th {\n",
       "        vertical-align: top;\n",
       "    }\n",
       "\n",
       "    .dataframe thead th {\n",
       "        text-align: right;\n",
       "    }\n",
       "</style>\n",
       "<table border=\"1\" class=\"dataframe\">\n",
       "  <thead>\n",
       "    <tr style=\"text-align: right;\">\n",
       "      <th></th>\n",
       "      <th>data_source</th>\n",
       "      <th>prompt</th>\n",
       "      <th>ability</th>\n",
       "      <th>reward_model</th>\n",
       "      <th>extra_info</th>\n",
       "    </tr>\n",
       "  </thead>\n",
       "  <tbody>\n",
       "    <tr>\n",
       "      <th>0</th>\n",
       "      <td>openai/gsm8k</td>\n",
       "      <td>[{'content': 'Janet’s ducks lay 16 eggs per da...</td>\n",
       "      <td>math</td>\n",
       "      <td>{'ground_truth': '18', 'style': 'rule'}</td>\n",
       "      <td>{'answer': 'Janet sells 16 - 3 - 4 = &lt;&lt;16-3-4=...</td>\n",
       "    </tr>\n",
       "    <tr>\n",
       "      <th>1</th>\n",
       "      <td>openai/gsm8k</td>\n",
       "      <td>[{'content': 'A robe takes 2 bolts of blue fib...</td>\n",
       "      <td>math</td>\n",
       "      <td>{'ground_truth': '3', 'style': 'rule'}</td>\n",
       "      <td>{'answer': 'It takes 2/2=&lt;&lt;2/2=1&gt;&gt;1 bolt of wh...</td>\n",
       "    </tr>\n",
       "    <tr>\n",
       "      <th>2</th>\n",
       "      <td>openai/gsm8k</td>\n",
       "      <td>[{'content': 'Josh decides to try flipping a h...</td>\n",
       "      <td>math</td>\n",
       "      <td>{'ground_truth': '70000', 'style': 'rule'}</td>\n",
       "      <td>{'answer': 'The cost of the house and repairs ...</td>\n",
       "    </tr>\n",
       "    <tr>\n",
       "      <th>3</th>\n",
       "      <td>openai/gsm8k</td>\n",
       "      <td>[{'content': 'James decides to run 3 sprints 3...</td>\n",
       "      <td>math</td>\n",
       "      <td>{'ground_truth': '540', 'style': 'rule'}</td>\n",
       "      <td>{'answer': 'He sprints 3*3=&lt;&lt;3*3=9&gt;&gt;9 times\n",
       "So...</td>\n",
       "    </tr>\n",
       "    <tr>\n",
       "      <th>4</th>\n",
       "      <td>openai/gsm8k</td>\n",
       "      <td>[{'content': 'Every day, Wendi feeds each of h...</td>\n",
       "      <td>math</td>\n",
       "      <td>{'ground_truth': '20', 'style': 'rule'}</td>\n",
       "      <td>{'answer': 'If each chicken eats 3 cups of fee...</td>\n",
       "    </tr>\n",
       "  </tbody>\n",
       "</table>\n",
       "</div>"
      ],
      "text/plain": [
       "    data_source                                             prompt ability  \\\n",
       "0  openai/gsm8k  [{'content': 'Janet’s ducks lay 16 eggs per da...    math   \n",
       "1  openai/gsm8k  [{'content': 'A robe takes 2 bolts of blue fib...    math   \n",
       "2  openai/gsm8k  [{'content': 'Josh decides to try flipping a h...    math   \n",
       "3  openai/gsm8k  [{'content': 'James decides to run 3 sprints 3...    math   \n",
       "4  openai/gsm8k  [{'content': 'Every day, Wendi feeds each of h...    math   \n",
       "\n",
       "                                 reward_model  \\\n",
       "0     {'ground_truth': '18', 'style': 'rule'}   \n",
       "1      {'ground_truth': '3', 'style': 'rule'}   \n",
       "2  {'ground_truth': '70000', 'style': 'rule'}   \n",
       "3    {'ground_truth': '540', 'style': 'rule'}   \n",
       "4     {'ground_truth': '20', 'style': 'rule'}   \n",
       "\n",
       "                                          extra_info  \n",
       "0  {'answer': 'Janet sells 16 - 3 - 4 = <<16-3-4=...  \n",
       "1  {'answer': 'It takes 2/2=<<2/2=1>>1 bolt of wh...  \n",
       "2  {'answer': 'The cost of the house and repairs ...  \n",
       "3  {'answer': 'He sprints 3*3=<<3*3=9>>9 times\n",
       "So...  \n",
       "4  {'answer': 'If each chicken eats 3 cups of fee...  "
      ]
     },
     "execution_count": 1,
     "metadata": {},
     "output_type": "execute_result"
    }
   ],
   "source": [
    "import pandas as pd\n",
    "\n",
    "path = \"/vepfs/fs_projects/FunMG/LLM/dataset/gsm8k/test.parquet\"\n",
    "data = pd.read_parquet(path)\n",
    "\n",
    "data.head()  # 查看前几行数据\n"
   ]
  },
  {
   "cell_type": "code",
   "execution_count": 3,
   "metadata": {},
   "outputs": [
    {
     "data": {
      "text/plain": [
       "{'answer': 'Janet sells 16 - 3 - 4 = <<16-3-4=9>>9 duck eggs a day.\\nShe makes 9 * 2 = $<<9*2=18>>18 every day at the farmer’s market.\\n#### 18',\n",
       " 'index': 0,\n",
       " 'question': \"Janet’s ducks lay 16 eggs per day. She eats three for breakfast every morning and bakes muffins for her friends every day with four. She sells the remainder at the farmers' market daily for $2 per fresh duck egg. How much in dollars does she make every day at the farmers' market?\",\n",
       " 'split': 'test'}"
      ]
     },
     "execution_count": 3,
     "metadata": {},
     "output_type": "execute_result"
    }
   ],
   "source": [
    "data.iloc[0,:]['extra_info']"
   ]
  },
  {
   "cell_type": "code",
   "execution_count": 4,
   "metadata": {},
   "outputs": [],
   "source": [
    "\n",
    "import json \n",
    "with open('/vepfs/fs_projects/FunMG/LLM/dataset/datasets--GreatCaptainNemo--HME_dataset/snapshots/934c6a76f50e1f90eb83abdbc8b5366dde00639e/desc2mol_train.json', 'r') as all_f:\n",
    "    \n",
    "        data = json.load(all_f)"
   ]
  },
  {
   "cell_type": "code",
   "execution_count": 6,
   "metadata": {},
   "outputs": [
    {
     "data": {
      "text/plain": [
       "26407"
      ]
     },
     "execution_count": 6,
     "metadata": {},
     "output_type": "execute_result"
    }
   ],
   "source": [
    "len(data)"
   ]
  },
  {
   "cell_type": "code",
   "execution_count": null,
   "metadata": {},
   "outputs": [],
   "source": []
  },
  {
   "cell_type": "code",
   "execution_count": 2,
   "metadata": {},
   "outputs": [
    {
     "name": "stderr",
     "output_type": "stream",
     "text": [
      "[01:36:00] SMILES Parse Error: syntax error while parsing: CC(=O)O[C@@H]1C[C@H]2C(C)(C)C(=O)C=C[C@]2(C)[C@H]2CC[C@]3(C)CCC[C@G]3[C@@]12C\n",
      "[01:36:00] SMILES Parse Error: check for mistakes around position 67:\n",
      "[01:36:00] @H]2CC[C@]3(C)CCC[C@G]3[C@@]12C\n",
      "[01:36:00] ~~~~~~~~~~~~~~~~~~~~^\n",
      "[01:36:00] SMILES Parse Error: Failed parsing SMILES 'CC(=O)O[C@@H]1C[C@H]2C(C)(C)C(=O)C=C[C@]2(C)[C@H]2CC[C@]3(C)CCC[C@G]3[C@@]12C' for input: 'CC(=O)O[C@@H]1C[C@H]2C(C)(C)C(=O)C=C[C@]2(C)[C@H]2CC[C@]3(C)CCC[C@G]3[C@@]12C'\n"
     ]
    },
    {
     "ename": "ValueError",
     "evalue": "Null molecule provided",
     "output_type": "error",
     "traceback": [
      "\u001b[0;31m---------------------------------------------------------------------------\u001b[0m",
      "\u001b[0;31mValueError\u001b[0m                                Traceback (most recent call last)",
      "Cell \u001b[0;32mIn[2], line 5\u001b[0m\n\u001b[1;32m      2\u001b[0m \u001b[38;5;28;01mfrom\u001b[39;00m \u001b[38;5;21;01mrdkit\u001b[39;00m\u001b[38;5;21;01m.\u001b[39;00m\u001b[38;5;21;01mChem\u001b[39;00m \u001b[38;5;28;01mimport\u001b[39;00m Draw\n\u001b[1;32m      4\u001b[0m test \u001b[38;5;241m=\u001b[39m Chem\u001b[38;5;241m.\u001b[39mMolFromSmiles(\u001b[38;5;124m'\u001b[39m\u001b[38;5;124mCC(=O)O[C@@H]1C[C@H]2C(C)(C)C(=O)C=C[C@]2(C)[C@H]2CC[C@]3(C)CCC[C@G]3[C@@]12C\u001b[39m\u001b[38;5;124m'\u001b[39m)\n\u001b[0;32m----> 5\u001b[0m \u001b[43mDraw\u001b[49m\u001b[38;5;241;43m.\u001b[39;49m\u001b[43mMolToImage\u001b[49m\u001b[43m(\u001b[49m\u001b[43mtest\u001b[49m\u001b[43m)\u001b[49m\n",
      "File \u001b[0;32m~/miniconda3/lib/python3.10/site-packages/rdkit/Chem/Draw/__init__.py:101\u001b[0m, in \u001b[0;36mMolToImage\u001b[0;34m(mol, size, kekulize, wedgeBonds, fitImage, options, **kwargs)\u001b[0m\n\u001b[1;32m     71\u001b[0m \u001b[38;5;250m\u001b[39m\u001b[38;5;124;03m\"\"\"Returns a PIL image containing a drawing of the molecule\u001b[39;00m\n\u001b[1;32m     72\u001b[0m \n\u001b[1;32m     73\u001b[0m \u001b[38;5;124;03m    ARGUMENTS:\u001b[39;00m\n\u001b[0;32m   (...)\u001b[0m\n\u001b[1;32m     98\u001b[0m \u001b[38;5;124;03m      a PIL Image object\u001b[39;00m\n\u001b[1;32m     99\u001b[0m \u001b[38;5;124;03m\"\"\"\u001b[39;00m\n\u001b[1;32m    100\u001b[0m \u001b[38;5;28;01mif\u001b[39;00m \u001b[38;5;129;01mnot\u001b[39;00m mol:\n\u001b[0;32m--> 101\u001b[0m   \u001b[38;5;28;01mraise\u001b[39;00m \u001b[38;5;167;01mValueError\u001b[39;00m(\u001b[38;5;124m'\u001b[39m\u001b[38;5;124mNull molecule provided\u001b[39m\u001b[38;5;124m'\u001b[39m)\n\u001b[1;32m    102\u001b[0m \u001b[38;5;28;01mif\u001b[39;00m \u001b[38;5;129;01mnot\u001b[39;00m \u001b[38;5;28mhasattr\u001b[39m(rdMolDraw2D, \u001b[38;5;124m'\u001b[39m\u001b[38;5;124mMolDraw2DCairo\u001b[39m\u001b[38;5;124m'\u001b[39m):\n\u001b[1;32m    103\u001b[0m   \u001b[38;5;28;01mraise\u001b[39;00m \u001b[38;5;167;01mRuntimeError\u001b[39;00m(\u001b[38;5;124m\"\u001b[39m\u001b[38;5;124mMolToImage requires that the RDKit be built with Cairo support\u001b[39m\u001b[38;5;124m\"\u001b[39m)\n",
      "\u001b[0;31mValueError\u001b[0m: Null molecule provided"
     ]
    }
   ],
   "source": [
    "from rdkit import Chem\n",
    "from rdkit.Chem import Draw\n",
    "\n",
    "test = Chem.MolFromSmiles('CC(=O)O[C@@H]1C[C@H]2C(C)(C)C(=O)C=C[C@]2(C)[C@H]2CC[C@]3(C)CCC[C@G]3[C@@]12C')\n",
    "Draw.MolToImage(test)"
   ]
  },
  {
   "cell_type": "code",
   "execution_count": 3,
   "metadata": {},
   "outputs": [],
   "source": [
    "\n",
    "import re\n",
    "\n",
    "import numpy as np\n",
    "from Levenshtein import distance as lev\n",
    "from rdkit import Chem, DataStructs, RDLogger, rdBase\n",
    "from rdkit.Chem import AllChem, Descriptors, MACCSkeys\n",
    "\n",
    "rdBase.DisableLog('rdApp.error')\n",
    "RDLogger.DisableLog('rdApp.warning')\n",
    "RDLogger.DisableLog('rdApp.*')\n",
    "from collections import Counter\n",
    "\n",
    "from EFGs import mol2frag\n",
    "from rdkit import Chem\n",
    "\n",
    "\n",
    "def extract_solution(solution_str: str) -> str:\n",
    "    \"\"\"\n",
    "    Extract the last <answer>...</answer> block from the solution string.\n",
    "    \"\"\"\n",
    "    matches = list(re.finditer(r\"<answer>(.*?)</answer>\", solution_str, re.DOTALL))\n",
    "    return matches[-1].group(1).strip() if matches else None\n",
    "\n",
    "\n",
    "def is_valid_smiles(smi: str) -> bool:\n",
    "    try:\n",
    "        mol = Chem.MolFromSmiles(smi)\n",
    "        return mol is not None\n",
    "    except:\n",
    "        return False\n",
    "\n",
    "\n",
    "def exact_string_match(pred_smi: str, gt_smi: str) -> float:\n",
    "    try:\n",
    "        can_pred = Chem.MolToSmiles(Chem.MolFromSmiles(pred_smi), canonical=True)\n",
    "        can_gt = Chem.MolToSmiles(Chem.MolFromSmiles(gt_smi), canonical=True)\n",
    "        return 1.0 if can_pred == can_gt else 0.0\n",
    "    except:\n",
    "        return 0.0\n",
    "\n",
    "\n",
    "def exact_structure_match(pred_smi: str, gt_smi: str) -> float:\n",
    "    try:\n",
    "        m1, m2 = Chem.MolFromSmiles(pred_smi), Chem.MolFromSmiles(gt_smi)\n",
    "        return 1.0 if Chem.MolToInchi(m1) == Chem.MolToInchi(m2) else 0.0\n",
    "    except:\n",
    "        return 0.0\n",
    "\n",
    "\n",
    "def property_similarity(pred_smi: str, gt_smi: str) -> float:\n",
    "    try:\n",
    "        mol1, mol2 = Chem.MolFromSmiles(pred_smi), Chem.MolFromSmiles(gt_smi)\n",
    "        props1 = np.array([Descriptors.MolWt(mol1), Descriptors.MolLogP(mol1), Descriptors.TPSA(mol1)])\n",
    "        props2 = np.array([Descriptors.MolWt(mol2), Descriptors.MolLogP(mol2), Descriptors.TPSA(mol2)])\n",
    "        diff = np.abs(props1 - props2)\n",
    "        return float(np.exp(-np.mean(diff) / 10))\n",
    "    except:\n",
    "        return 0.0\n",
    "\n",
    "\n",
    "def fingerprint_similarity_scores(pred_smi: str, gt_smi: str):\n",
    "    try:\n",
    "        mol1, mol2 = Chem.MolFromSmiles(pred_smi), Chem.MolFromSmiles(gt_smi)\n",
    "        maccs_sim = DataStructs.FingerprintSimilarity(MACCSkeys.GenMACCSKeys(mol1), MACCSkeys.GenMACCSKeys(mol2))\n",
    "        rdk_sim = DataStructs.FingerprintSimilarity(Chem.RDKFingerprint(mol1), Chem.RDKFingerprint(mol2))\n",
    "        morgan_sim = DataStructs.TanimotoSimilarity(\n",
    "            AllChem.GetMorganFingerprint(mol1, 2),\n",
    "            AllChem.GetMorganFingerprint(mol2, 2)\n",
    "        )\n",
    "        return maccs_sim, rdk_sim, morgan_sim\n",
    "    except:\n",
    "        return 0.0, 0.0, 0.0\n",
    "\n",
    "\n",
    "def smiles_levenshtein(pred_smi: str, gt_smi: str, normalize_len: int = 100) -> float:\n",
    "    try:\n",
    "        return 1.0 - lev(pred_smi, gt_smi) / normalize_len\n",
    "    except:\n",
    "        return 0.0\n",
    "\n",
    "\n",
    "# def compute_score(solution_str: str, ground_truth: str) -> float:\n",
    "    \n",
    "#     pred_smi = extract_solution(solution_str)\n",
    "#     if pred_smi is None:\n",
    "#         return 0.0  \n",
    "\n",
    "#     if not is_valid_smiles(pred_smi):\n",
    "#         return 0.0  \n",
    "    \n",
    "#     exact_text = exact_string_match(pred_smi, ground_truth)\n",
    "#     exact_struct = exact_structure_match(pred_smi, ground_truth)\n",
    "#     prop_sim = property_similarity(pred_smi, ground_truth)\n",
    "#     maccs_sim, rdk_sim, morgan_sim = fingerprint_similarity_scores(pred_smi, ground_truth)\n",
    "#     lev_sim = smiles_levenshtein(pred_smi, ground_truth)\n",
    "\n",
    "#     weights = {\n",
    "#         \"exact_text_match\": 0.85, # \n",
    "#         \"exact_struct_match\": 0.1,\n",
    "#         # \"morgan_similarity\": 0.15,\n",
    "#         # \"property_similarity\": 0.1,\n",
    "#         # \"smiles_levenshtein\": 0.05,\n",
    "#         # \"rdk_similarity\": 0.05,\n",
    "#         # \"maccs_similarity\": 0.05,\n",
    "#         \"format_text\": 0.05,\n",
    "#     }\n",
    "\n",
    "#     score = (\n",
    "#         weights[\"exact_text_match\"] * exact_text +\n",
    "#         weights[\"exact_struct_match\"] * exact_struct +\n",
    "#         # weights[\"property_similarity\"] * prop_sim +\n",
    "#         # weights[\"morgan_similarity\"] * morgan_sim +\n",
    "#         # weights[\"rdk_similarity\"] * rdk_sim +\n",
    "#         # weights[\"maccs_similarity\"] * maccs_sim +\n",
    "#         # weights[\"smiles_levenshtein\"] * lev_sim + \n",
    "#         weights[\"format_text\"] * 1\n",
    "#     )\n",
    "    \n",
    "#     return float(score)\n",
    "def compute_fragment_overlap(pred_smi: str, gt_smi: str) -> float:\n",
    "    try:\n",
    "        mol_pred = Chem.MolFromSmiles(pred_smi)\n",
    "        mol_gt = Chem.MolFromSmiles(gt_smi)\n",
    "        if mol_pred is None or mol_gt is None:\n",
    "            return 0.0\n",
    "\n",
    "        pred_nonCHs, pred_CHs = mol2frag(mol_pred)\n",
    "        gt_nonCHs, gt_CHs = mol2frag(mol_gt)\n",
    "\n",
    "        pred_frags = set(pred_nonCHs + pred_CHs)\n",
    "        gt_frags = set(gt_nonCHs + gt_CHs)\n",
    "\n",
    "        if not pred_frags or not gt_frags:\n",
    "            return 0.0\n",
    "\n",
    "        intersect = pred_frags & gt_frags\n",
    "        union = pred_frags | gt_frags\n",
    "        return len(intersect) / len(union)\n",
    "    except Exception as e:\n",
    "        print(f\"[fragment reward error] {e}\")\n",
    "        return 0.0\n",
    "        \n",
    "def fragment_recall(pred_smi: str, gt_smi: str) -> float:\n",
    "    try:\n",
    "        mol_pred = Chem.MolFromSmiles(pred_smi)\n",
    "        mol_gt = Chem.MolFromSmiles(gt_smi)\n",
    "        pred_nonCHs, pred_CHs = mol2frag(mol_pred)\n",
    "        gt_nonCHs, gt_CHs = mol2frag(mol_gt)\n",
    "        pred_frags = set(pred_nonCHs + pred_CHs)\n",
    "        gt_frags = set(gt_nonCHs + gt_CHs)\n",
    "        if not gt_frags:\n",
    "            return 0.0\n",
    "        return len(pred_frags & gt_frags) / len(gt_frags)\n",
    "    except:\n",
    "        return 0.0\n",
    "\n",
    "\n",
    "def functional_group_count_diff(pred_smi: str, gt_smi: str) -> float:\n",
    "    try:\n",
    "        mol1 = Chem.MolFromSmiles(pred_smi)\n",
    "        mol2 = Chem.MolFromSmiles(gt_smi)\n",
    "        pred_nonCHs, _ = mol2frag(mol1)\n",
    "        gt_nonCHs, _ = mol2frag(mol2)\n",
    "        pred_count = Counter(pred_nonCHs)\n",
    "        gt_count = Counter(gt_nonCHs)\n",
    "        all_keys = set(pred_count) | set(gt_count)\n",
    "        diff_sum = sum(abs(pred_count[k] - gt_count[k]) for k in all_keys)\n",
    "        total = sum(gt_count.values()) + 1e-5\n",
    "        return float(np.exp(-diff_sum / total))  # 差异越小，reward 越高\n",
    "    except:\n",
    "        return 0.0\n",
    "\n",
    "\n",
    "def compute_score(solution_str: str, ground_truth: str) -> float:\n",
    "    pred_smi = extract_solution(solution_str)\n",
    "    if pred_smi is None or not is_valid_smiles(pred_smi):\n",
    "        return 0.0\n",
    "\n",
    "    exact_text = exact_string_match(pred_smi, ground_truth)\n",
    "    exact_struct = exact_structure_match(pred_smi, ground_truth)\n",
    "    maccs_sim, rdk_sim, morgan_sim = fingerprint_similarity_scores(pred_smi, ground_truth)\n",
    "    fp_score = 0.5 * morgan_sim + 0.25 * maccs_sim + 0.25 * rdk_sim\n",
    "\n",
    "    frag_jaccard = compute_fragment_overlap(pred_smi, ground_truth)\n",
    "    frag_recall_score = fragment_recall(pred_smi, ground_truth)\n",
    "    frag_score = 0.5 * frag_jaccard + 0.5 * frag_recall_score\n",
    "\n",
    "    group_score = functional_group_count_diff(pred_smi, ground_truth)\n",
    "\n",
    "    if exact_text == 1.0:\n",
    "        return 1.0\n",
    "    elif exact_struct == 1.0:\n",
    "        return 0.9\n",
    "    else:\n",
    "        return 0.1 + 0.3 * fp_score + 0.3 * frag_score + 0.3 * group_score\n"
   ]
  },
  {
   "cell_type": "code",
   "execution_count": 6,
   "metadata": {},
   "outputs": [],
   "source": [
    "gt = 'COC(=O)/C=C1/CC[C@H]2[C@@H]3CCC4=CC(=O)CC[C@]4(C)[C@H]3C(=O)C[C@]12C'\n",
    "pred = '<answer> CC(=O)O[C@H](C)C[C@H](C)C[C@H]1CC[C@H](C(=O)C)C[C@H](O)CC[C@]1(C)C </answer>'"
   ]
  },
  {
   "cell_type": "code",
   "execution_count": 7,
   "metadata": {},
   "outputs": [
    {
     "data": {
      "text/plain": [
       "0.47792123940458564"
      ]
     },
     "execution_count": 7,
     "metadata": {},
     "output_type": "execute_result"
    }
   ],
   "source": [
    "compute_score(pred, gt)"
   ]
  },
  {
   "cell_type": "code",
   "execution_count": 8,
   "metadata": {},
   "outputs": [
    {
     "data": {
      "image/jpeg": "[encoded data removed]",
      "image/png": "[encoded data removed]",
      "text/plain": [
       "<PIL.PngImagePlugin.PngImageFile image mode=RGB size=300x300>"
      ]
     },
     "execution_count": 8,
     "metadata": {},
     "output_type": "execute_result"
    }
   ],
   "source": [
    "from rdkit import Chem\n",
    "from rdkit.Chem import Draw\n",
    "\n",
    "test = Chem.MolFromSmiles(gt)\n",
    "Draw.MolToImage(test)"
   ]
  },
  {
   "cell_type": "code",
   "execution_count": 9,
   "metadata": {},
   "outputs": [
    {
     "data": {
      "image/jpeg": "[encoded data removed]",
      "image/png": "[encoded data removed]",
      "text/plain": [
       "<PIL.PngImagePlugin.PngImageFile image mode=RGB size=300x300>"
      ]
     },
     "execution_count": 9,
     "metadata": {},
     "output_type": "execute_result"
    }
   ],
   "source": [
    "from rdkit import Chem\n",
    "from rdkit.Chem import Draw\n",
    "\n",
    "gt = Chem.MolFromSmiles(extract_solution(pred))\n",
    "Draw.MolToImage(gt)"
   ]
  }
 ],
 "metadata": {
  "kernelspec": {
   "display_name": "base",
   "language": "python",
   "name": "python3"
  },
  "language_info": {
   "codemirror_mode": {
    "name": "ipython",
    "version": 3
   },
   "file_extension": ".py",
   "mimetype": "text/x-python",
   "name": "python",
   "nbconvert_exporter": "python",
   "pygments_lexer": "ipython3",
   "version": "3.10.15"
  },
  "orig_nbformat": 4
 },
 "nbformat": 4,
 "nbformat_minor": 2
}
