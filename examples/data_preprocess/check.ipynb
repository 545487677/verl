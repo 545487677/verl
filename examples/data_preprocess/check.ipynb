{
 "cells": [
  {
   "cell_type": "code",
   "execution_count": 1,
   "metadata": {},
   "outputs": [
    {
     "data": {
      "text/html": [
       "<div>\n",
       "<style scoped>\n",
       "    .dataframe tbody tr th:only-of-type {\n",
       "        vertical-align: middle;\n",
       "    }\n",
       "\n",
       "    .dataframe tbody tr th {\n",
       "        vertical-align: top;\n",
       "    }\n",
       "\n",
       "    .dataframe thead th {\n",
       "        text-align: right;\n",
       "    }\n",
       "</style>\n",
       "<table border=\"1\" class=\"dataframe\">\n",
       "  <thead>\n",
       "    <tr style=\"text-align: right;\">\n",
       "      <th></th>\n",
       "      <th>data_source</th>\n",
       "      <th>prompt</th>\n",
       "      <th>ability</th>\n",
       "      <th>reward_model</th>\n",
       "      <th>extra_info</th>\n",
       "      <th>responses</th>\n",
       "    </tr>\n",
       "  </thead>\n",
       "  <tbody>\n",
       "    <tr>\n",
       "      <th>0</th>\n",
       "      <td>openai/gsm8k</td>\n",
       "      <td>[{'content': 'Janet’s ducks lay 16 eggs per da...</td>\n",
       "      <td>math</td>\n",
       "      <td>{'ground_truth': '18', 'style': 'rule'}</td>\n",
       "      <td>{'answer': 'Janet sells 16 - 3 - 4 = &lt;&lt;16-3-4=...</td>\n",
       "      <td>[Janet's ducks lay 16 eggs per day. She eats t...</td>\n",
       "    </tr>\n",
       "    <tr>\n",
       "      <th>1</th>\n",
       "      <td>openai/gsm8k</td>\n",
       "      <td>[{'content': 'A robe takes 2 bolts of blue fib...</td>\n",
       "      <td>math</td>\n",
       "      <td>{'ground_truth': '3', 'style': 'rule'}</td>\n",
       "      <td>{'answer': 'It takes 2/2=&lt;&lt;2/2=1&gt;&gt;1 bolt of wh...</td>\n",
       "      <td>[Certainly! Let's break down the problem step ...</td>\n",
       "    </tr>\n",
       "    <tr>\n",
       "      <th>2</th>\n",
       "      <td>openai/gsm8k</td>\n",
       "      <td>[{'content': 'Josh decides to try flipping a h...</td>\n",
       "      <td>math</td>\n",
       "      <td>{'ground_truth': '70000', 'style': 'rule'}</td>\n",
       "      <td>{'answer': 'The cost of the house and repairs ...</td>\n",
       "      <td>[Josh bought the house for $80,000 and put in ...</td>\n",
       "    </tr>\n",
       "    <tr>\n",
       "      <th>3</th>\n",
       "      <td>openai/gsm8k</td>\n",
       "      <td>[{'content': 'James decides to run 3 sprints 3...</td>\n",
       "      <td>math</td>\n",
       "      <td>{'ground_truth': '540', 'style': 'rule'}</td>\n",
       "      <td>{'answer': 'He sprints 3*3=&lt;&lt;3*3=9&gt;&gt;9 times\n",
       "So...</td>\n",
       "      <td>[James runs 3 sprints per week, and each sprin...</td>\n",
       "    </tr>\n",
       "    <tr>\n",
       "      <th>4</th>\n",
       "      <td>openai/gsm8k</td>\n",
       "      <td>[{'content': 'Every day, Wendi feeds each of h...</td>\n",
       "      <td>math</td>\n",
       "      <td>{'ground_truth': '20', 'style': 'rule'}</td>\n",
       "      <td>{'answer': 'If each chicken eats 3 cups of fee...</td>\n",
       "      <td>[To determine how many cups of feed Wendi need...</td>\n",
       "    </tr>\n",
       "  </tbody>\n",
       "</table>\n",
       "</div>"
      ],
      "text/plain": [
       "    data_source                                             prompt ability  \\\n",
       "0  openai/gsm8k  [{'content': 'Janet’s ducks lay 16 eggs per da...    math   \n",
       "1  openai/gsm8k  [{'content': 'A robe takes 2 bolts of blue fib...    math   \n",
       "2  openai/gsm8k  [{'content': 'Josh decides to try flipping a h...    math   \n",
       "3  openai/gsm8k  [{'content': 'James decides to run 3 sprints 3...    math   \n",
       "4  openai/gsm8k  [{'content': 'Every day, Wendi feeds each of h...    math   \n",
       "\n",
       "                                 reward_model  \\\n",
       "0     {'ground_truth': '18', 'style': 'rule'}   \n",
       "1      {'ground_truth': '3', 'style': 'rule'}   \n",
       "2  {'ground_truth': '70000', 'style': 'rule'}   \n",
       "3    {'ground_truth': '540', 'style': 'rule'}   \n",
       "4     {'ground_truth': '20', 'style': 'rule'}   \n",
       "\n",
       "                                          extra_info  \\\n",
       "0  {'answer': 'Janet sells 16 - 3 - 4 = <<16-3-4=...   \n",
       "1  {'answer': 'It takes 2/2=<<2/2=1>>1 bolt of wh...   \n",
       "2  {'answer': 'The cost of the house and repairs ...   \n",
       "3  {'answer': 'He sprints 3*3=<<3*3=9>>9 times\n",
       "So...   \n",
       "4  {'answer': 'If each chicken eats 3 cups of fee...   \n",
       "\n",
       "                                           responses  \n",
       "0  [Janet's ducks lay 16 eggs per day. She eats t...  \n",
       "1  [Certainly! Let's break down the problem step ...  \n",
       "2  [Josh bought the house for $80,000 and put in ...  \n",
       "3  [James runs 3 sprints per week, and each sprin...  \n",
       "4  [To determine how many cups of feed Wendi need...  "
      ]
     },
     "execution_count": 1,
     "metadata": {},
     "output_type": "execute_result"
    }
   ],
   "source": [
    "import pandas as pd\n",
    "\n",
    "path = \"/vepfs/fs_projects/FunMG/LLM/dataset/gsm8k/test-output-8.parquet\"\n",
    "data = pd.read_parquet(path)\n",
    "\n",
    "data.head()  # 查看前几行数据\n"
   ]
  },
  {
   "cell_type": "code",
   "execution_count": 2,
   "metadata": {},
   "outputs": [
    {
     "data": {
      "text/html": [
       "<div>\n",
       "<style scoped>\n",
       "    .dataframe tbody tr th:only-of-type {\n",
       "        vertical-align: middle;\n",
       "    }\n",
       "\n",
       "    .dataframe tbody tr th {\n",
       "        vertical-align: top;\n",
       "    }\n",
       "\n",
       "    .dataframe thead th {\n",
       "        text-align: right;\n",
       "    }\n",
       "</style>\n",
       "<table border=\"1\" class=\"dataframe\">\n",
       "  <thead>\n",
       "    <tr style=\"text-align: right;\">\n",
       "      <th></th>\n",
       "      <th>question</th>\n",
       "      <th>answer</th>\n",
       "    </tr>\n",
       "  </thead>\n",
       "  <tbody>\n",
       "    <tr>\n",
       "      <th>0</th>\n",
       "      <td>Janet’s ducks lay 16 eggs per day. She eats th...</td>\n",
       "      <td>Janet sells 16 - 3 - 4 = &lt;&lt;16-3-4=9&gt;&gt;9 duck eg...</td>\n",
       "    </tr>\n",
       "    <tr>\n",
       "      <th>1</th>\n",
       "      <td>A robe takes 2 bolts of blue fiber and half th...</td>\n",
       "      <td>It takes 2/2=&lt;&lt;2/2=1&gt;&gt;1 bolt of white fiber\\nS...</td>\n",
       "    </tr>\n",
       "    <tr>\n",
       "      <th>2</th>\n",
       "      <td>Josh decides to try flipping a house.  He buys...</td>\n",
       "      <td>The cost of the house and repairs came out to ...</td>\n",
       "    </tr>\n",
       "    <tr>\n",
       "      <th>3</th>\n",
       "      <td>James decides to run 3 sprints 3 times a week....</td>\n",
       "      <td>He sprints 3*3=&lt;&lt;3*3=9&gt;&gt;9 times\\nSo he runs 9*...</td>\n",
       "    </tr>\n",
       "    <tr>\n",
       "      <th>4</th>\n",
       "      <td>Every day, Wendi feeds each of her chickens th...</td>\n",
       "      <td>If each chicken eats 3 cups of feed per day, t...</td>\n",
       "    </tr>\n",
       "  </tbody>\n",
       "</table>\n",
       "</div>"
      ],
      "text/plain": [
       "                                            question  \\\n",
       "0  Janet’s ducks lay 16 eggs per day. She eats th...   \n",
       "1  A robe takes 2 bolts of blue fiber and half th...   \n",
       "2  Josh decides to try flipping a house.  He buys...   \n",
       "3  James decides to run 3 sprints 3 times a week....   \n",
       "4  Every day, Wendi feeds each of her chickens th...   \n",
       "\n",
       "                                              answer  \n",
       "0  Janet sells 16 - 3 - 4 = <<16-3-4=9>>9 duck eg...  \n",
       "1  It takes 2/2=<<2/2=1>>1 bolt of white fiber\\nS...  \n",
       "2  The cost of the house and repairs came out to ...  \n",
       "3  He sprints 3*3=<<3*3=9>>9 times\\nSo he runs 9*...  \n",
       "4  If each chicken eats 3 cups of feed per day, t...  "
      ]
     },
     "execution_count": 2,
     "metadata": {},
     "output_type": "execute_result"
    }
   ],
   "source": [
    "data.head()"
   ]
  },
  {
   "cell_type": "code",
   "execution_count": 6,
   "metadata": {},
   "outputs": [
    {
     "name": "stdout",
     "output_type": "stream",
     "text": [
      "    data_source                                             prompt ability  \\\n",
      "0  openai/gsm8k  [{'content': 'Natalia sold clips to 48 of her ...    math   \n",
      "1  openai/gsm8k  [{'content': 'Weng earns $12 an hour for babys...    math   \n",
      "2  openai/gsm8k  [{'content': 'Betty is saving money for a new ...    math   \n",
      "3  openai/gsm8k  [{'content': 'Julie is reading a 120-page book...    math   \n",
      "4  openai/gsm8k  [{'content': 'James writes a 3-page letter to ...    math   \n",
      "\n",
      "                               reward_model  \\\n",
      "0   {'ground_truth': '72', 'style': 'rule'}   \n",
      "1   {'ground_truth': '10', 'style': 'rule'}   \n",
      "2    {'ground_truth': '5', 'style': 'rule'}   \n",
      "3   {'ground_truth': '42', 'style': 'rule'}   \n",
      "4  {'ground_truth': '624', 'style': 'rule'}   \n",
      "\n",
      "                                          extra_info  \n",
      "0  {'answer': 'Natalia sold 48/2 = <<48/2=24>>24 ...  \n",
      "1  {'answer': 'Weng earns 12/60 = $<<12/60=0.2>>0...  \n",
      "2  {'answer': 'In the beginning, Betty has only 1...  \n",
      "3  {'answer': 'Maila read 12 x 2 = <<12*2=24>>24 ...  \n",
      "4  {'answer': 'He writes each friend 3*2=<<3*2=6>...  \n"
     ]
    }
   ],
   "source": [
    "import pandas as pd\n",
    "\n",
    "path = \"/vepfs/fs_projects/FunMG/LLM/dataset/gsm8k/train.parquet\"\n",
    "data = pd.read_parquet(path)\n",
    "\n",
    "print(data.head())  # 查看前几行数据\n"
   ]
  },
  {
   "cell_type": "code",
   "execution_count": 8,
   "metadata": {},
   "outputs": [
    {
     "data": {
      "text/plain": [
       "array([{'content': 'Weng earns $12 an hour for babysitting. Yesterday, she just did 50 minutes of babysitting. How much did she earn? Let\\'s think step by step and output the final answer after \"####\".', 'role': 'user'}],\n",
       "      dtype=object)"
      ]
     },
     "execution_count": 8,
     "metadata": {},
     "output_type": "execute_result"
    }
   ],
   "source": [
    "data.iloc[1, :]['prompt']"
   ]
  },
  {
   "cell_type": "code",
   "execution_count": null,
   "metadata": {},
   "outputs": [
    {
     "data": {
      "text/plain": [
       "{'ground_truth': '10', 'style': 'rule'}"
      ]
     },
     "execution_count": 9,
     "metadata": {},
     "output_type": "execute_result"
    }
   ],
   "source": [
    "data.iloc[1, :]['reward_model']"
   ]
  },
  {
   "cell_type": "code",
   "execution_count": 10,
   "metadata": {},
   "outputs": [
    {
     "name": "stdout",
     "output_type": "stream",
     "text": [
      "   target          nums data_source  \\\n",
      "0      98  [44, 19, 35]   countdown   \n",
      "1      64  [63, 95, 96]   countdown   \n",
      "2      28  [95, 11, 56]   countdown   \n",
      "3      48  [19, 74, 45]   countdown   \n",
      "4      17  [49, 41, 73]   countdown   \n",
      "\n",
      "                                              prompt ability  \\\n",
      "0  [{'content': 'A conversation between User and ...    math   \n",
      "1  [{'content': 'A conversation between User and ...    math   \n",
      "2  [{'content': 'A conversation between User and ...    math   \n",
      "3  [{'content': 'A conversation between User and ...    math   \n",
      "4  [{'content': 'A conversation between User and ...    math   \n",
      "\n",
      "                                        reward_model  \\\n",
      "0  {'ground_truth': {'numbers': [44, 19, 35], 'ta...   \n",
      "1  {'ground_truth': {'numbers': [63, 95, 96], 'ta...   \n",
      "2  {'ground_truth': {'numbers': [95, 11, 56], 'ta...   \n",
      "3  {'ground_truth': {'numbers': [19, 74, 45], 'ta...   \n",
      "4  {'ground_truth': {'numbers': [49, 41, 73], 'ta...   \n",
      "\n",
      "                       extra_info  \n",
      "0  {'index': 0, 'split': 'train'}  \n",
      "1  {'index': 1, 'split': 'train'}  \n",
      "2  {'index': 2, 'split': 'train'}  \n",
      "3  {'index': 3, 'split': 'train'}  \n",
      "4  {'index': 4, 'split': 'train'}  \n"
     ]
    }
   ],
   "source": [
    "import pandas as pd\n",
    "\n",
    "path = \"/vepfs/fs_projects/FunMG/LLM/dataset/countdown/train.parquet\"\n",
    "data = pd.read_parquet(path)\n",
    "\n",
    "print(data.head())  # 查看前几行数据\n",
    "\n",
    "\n"
   ]
  },
  {
   "cell_type": "code",
   "execution_count": 11,
   "metadata": {},
   "outputs": [
    {
     "data": {
      "text/html": [
       "<div>\n",
       "<style scoped>\n",
       "    .dataframe tbody tr th:only-of-type {\n",
       "        vertical-align: middle;\n",
       "    }\n",
       "\n",
       "    .dataframe tbody tr th {\n",
       "        vertical-align: top;\n",
       "    }\n",
       "\n",
       "    .dataframe thead th {\n",
       "        text-align: right;\n",
       "    }\n",
       "</style>\n",
       "<table border=\"1\" class=\"dataframe\">\n",
       "  <thead>\n",
       "    <tr style=\"text-align: right;\">\n",
       "      <th></th>\n",
       "      <th>target</th>\n",
       "      <th>nums</th>\n",
       "      <th>data_source</th>\n",
       "      <th>prompt</th>\n",
       "      <th>ability</th>\n",
       "      <th>reward_model</th>\n",
       "      <th>extra_info</th>\n",
       "    </tr>\n",
       "  </thead>\n",
       "  <tbody>\n",
       "    <tr>\n",
       "      <th>0</th>\n",
       "      <td>98</td>\n",
       "      <td>[44, 19, 35]</td>\n",
       "      <td>countdown</td>\n",
       "      <td>[{'content': 'A conversation between User and ...</td>\n",
       "      <td>math</td>\n",
       "      <td>{'ground_truth': {'numbers': [44, 19, 35], 'ta...</td>\n",
       "      <td>{'index': 0, 'split': 'train'}</td>\n",
       "    </tr>\n",
       "    <tr>\n",
       "      <th>1</th>\n",
       "      <td>64</td>\n",
       "      <td>[63, 95, 96]</td>\n",
       "      <td>countdown</td>\n",
       "      <td>[{'content': 'A conversation between User and ...</td>\n",
       "      <td>math</td>\n",
       "      <td>{'ground_truth': {'numbers': [63, 95, 96], 'ta...</td>\n",
       "      <td>{'index': 1, 'split': 'train'}</td>\n",
       "    </tr>\n",
       "    <tr>\n",
       "      <th>2</th>\n",
       "      <td>28</td>\n",
       "      <td>[95, 11, 56]</td>\n",
       "      <td>countdown</td>\n",
       "      <td>[{'content': 'A conversation between User and ...</td>\n",
       "      <td>math</td>\n",
       "      <td>{'ground_truth': {'numbers': [95, 11, 56], 'ta...</td>\n",
       "      <td>{'index': 2, 'split': 'train'}</td>\n",
       "    </tr>\n",
       "    <tr>\n",
       "      <th>3</th>\n",
       "      <td>48</td>\n",
       "      <td>[19, 74, 45]</td>\n",
       "      <td>countdown</td>\n",
       "      <td>[{'content': 'A conversation between User and ...</td>\n",
       "      <td>math</td>\n",
       "      <td>{'ground_truth': {'numbers': [19, 74, 45], 'ta...</td>\n",
       "      <td>{'index': 3, 'split': 'train'}</td>\n",
       "    </tr>\n",
       "    <tr>\n",
       "      <th>4</th>\n",
       "      <td>17</td>\n",
       "      <td>[49, 41, 73]</td>\n",
       "      <td>countdown</td>\n",
       "      <td>[{'content': 'A conversation between User and ...</td>\n",
       "      <td>math</td>\n",
       "      <td>{'ground_truth': {'numbers': [49, 41, 73], 'ta...</td>\n",
       "      <td>{'index': 4, 'split': 'train'}</td>\n",
       "    </tr>\n",
       "  </tbody>\n",
       "</table>\n",
       "</div>"
      ],
      "text/plain": [
       "   target          nums data_source  \\\n",
       "0      98  [44, 19, 35]   countdown   \n",
       "1      64  [63, 95, 96]   countdown   \n",
       "2      28  [95, 11, 56]   countdown   \n",
       "3      48  [19, 74, 45]   countdown   \n",
       "4      17  [49, 41, 73]   countdown   \n",
       "\n",
       "                                              prompt ability  \\\n",
       "0  [{'content': 'A conversation between User and ...    math   \n",
       "1  [{'content': 'A conversation between User and ...    math   \n",
       "2  [{'content': 'A conversation between User and ...    math   \n",
       "3  [{'content': 'A conversation between User and ...    math   \n",
       "4  [{'content': 'A conversation between User and ...    math   \n",
       "\n",
       "                                        reward_model  \\\n",
       "0  {'ground_truth': {'numbers': [44, 19, 35], 'ta...   \n",
       "1  {'ground_truth': {'numbers': [63, 95, 96], 'ta...   \n",
       "2  {'ground_truth': {'numbers': [95, 11, 56], 'ta...   \n",
       "3  {'ground_truth': {'numbers': [19, 74, 45], 'ta...   \n",
       "4  {'ground_truth': {'numbers': [49, 41, 73], 'ta...   \n",
       "\n",
       "                       extra_info  \n",
       "0  {'index': 0, 'split': 'train'}  \n",
       "1  {'index': 1, 'split': 'train'}  \n",
       "2  {'index': 2, 'split': 'train'}  \n",
       "3  {'index': 3, 'split': 'train'}  \n",
       "4  {'index': 4, 'split': 'train'}  "
      ]
     },
     "execution_count": 11,
     "metadata": {},
     "output_type": "execute_result"
    }
   ],
   "source": [
    "data.head()"
   ]
  },
  {
   "cell_type": "code",
   "execution_count": 16,
   "metadata": {},
   "outputs": [
    {
     "name": "stdout",
     "output_type": "stream",
     "text": [
      "A conversation between User and Assistant. The user asks a question, and the Assistant solves it. The assistant first thinks about the reasoning process in the mind and then provides the user with the answer.\n",
      "User: Using the numbers [63, 95, 96], create an equation that equals 64. You can use basic arithmetic operations (+, -, *, /) and each number can only be used once. Show your work in <think> </think> tags. And return the final answer in <answer> </answer> tags, for example <answer> (1 + 2) / 3 </answer>.\n",
      "Assistant: Let me solve this step by step.\n",
      "<think>\n"
     ]
    }
   ],
   "source": [
    "print(data.iloc[1, :]['prompt'][0]['content'])"
   ]
  },
  {
   "cell_type": "code",
   "execution_count": 19,
   "metadata": {},
   "outputs": [
    {
     "data": {
      "text/plain": [
       "{'ground_truth': {'numbers': array([63, 95, 96]), 'target': 64},\n",
       " 'style': 'rule'}"
      ]
     },
     "execution_count": 19,
     "metadata": {},
     "output_type": "execute_result"
    }
   ],
   "source": [
    "data.iloc[1, :]['reward_model']"
   ]
  },
  {
   "cell_type": "code",
   "execution_count": null,
   "metadata": {},
   "outputs": [],
   "source": [
    "print(data.iloc[1, :]['prompt'][0]['content'])"
   ]
  },
  {
   "cell_type": "code",
   "execution_count": 20,
   "metadata": {},
   "outputs": [
    {
     "data": {
      "text/html": [
       "<div>\n",
       "<style scoped>\n",
       "    .dataframe tbody tr th:only-of-type {\n",
       "        vertical-align: middle;\n",
       "    }\n",
       "\n",
       "    .dataframe tbody tr th {\n",
       "        vertical-align: top;\n",
       "    }\n",
       "\n",
       "    .dataframe thead th {\n",
       "        text-align: right;\n",
       "    }\n",
       "</style>\n",
       "<table border=\"1\" class=\"dataframe\">\n",
       "  <thead>\n",
       "    <tr style=\"text-align: right;\">\n",
       "      <th></th>\n",
       "      <th>target</th>\n",
       "      <th>nums</th>\n",
       "    </tr>\n",
       "  </thead>\n",
       "  <tbody>\n",
       "    <tr>\n",
       "      <th>0</th>\n",
       "      <td>98</td>\n",
       "      <td>[44, 19, 35]</td>\n",
       "    </tr>\n",
       "    <tr>\n",
       "      <th>1</th>\n",
       "      <td>64</td>\n",
       "      <td>[63, 95, 96]</td>\n",
       "    </tr>\n",
       "    <tr>\n",
       "      <th>2</th>\n",
       "      <td>28</td>\n",
       "      <td>[95, 11, 56]</td>\n",
       "    </tr>\n",
       "    <tr>\n",
       "      <th>3</th>\n",
       "      <td>48</td>\n",
       "      <td>[19, 74, 45]</td>\n",
       "    </tr>\n",
       "    <tr>\n",
       "      <th>4</th>\n",
       "      <td>17</td>\n",
       "      <td>[49, 41, 73]</td>\n",
       "    </tr>\n",
       "  </tbody>\n",
       "</table>\n",
       "</div>"
      ],
      "text/plain": [
       "   target          nums\n",
       "0      98  [44, 19, 35]\n",
       "1      64  [63, 95, 96]\n",
       "2      28  [95, 11, 56]\n",
       "3      48  [19, 74, 45]\n",
       "4      17  [49, 41, 73]"
      ]
     },
     "execution_count": 20,
     "metadata": {},
     "output_type": "execute_result"
    }
   ],
   "source": [
    "\n",
    "import pandas as pd\n",
    "\n",
    "path = \"/vepfs/fs_projects/FunMG/LLM/dataset/datasets--Jiayi-Pan--Countdown-Tasks-3to4/snapshots/408f70d177020686d34a56bba5952feb45aaaee4/data/train-00000-of-00001.parquet\"\n",
    "data = pd.read_parquet(path)\n",
    "\n",
    "data.head()\n",
    "\n",
    "\n"
   ]
  }
 ],
 "metadata": {
  "kernelspec": {
   "display_name": "base",
   "language": "python",
   "name": "python3"
  },
  "language_info": {
   "codemirror_mode": {
    "name": "ipython",
    "version": 3
   },
   "file_extension": ".py",
   "mimetype": "text/x-python",
   "name": "python",
   "nbconvert_exporter": "python",
   "pygments_lexer": "ipython3",
   "version": "3.10.15"
  },
  "orig_nbformat": 4
 },
 "nbformat": 4,
 "nbformat_minor": 2
}
