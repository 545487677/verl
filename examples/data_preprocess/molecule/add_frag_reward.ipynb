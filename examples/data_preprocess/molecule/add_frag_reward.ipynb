{
 "cells": [
  {
   "cell_type": "code",
   "execution_count": 18,
   "id": "f5b66349",
   "metadata": {},
   "outputs": [],
   "source": [
    "\n",
    "import re\n",
    "import numpy as np\n",
    "from rdkit import Chem, DataStructs\n",
    "from rdkit.Chem import AllChem, MACCSkeys, Descriptors\n",
    "from Levenshtein import distance as lev\n",
    "from rdkit import rdBase\n",
    "from rdkit import RDLogger\n",
    "from rdkit import Chem\n",
    "rdBase.DisableLog('rdApp.error')\n",
    "RDLogger.DisableLog('rdApp.warning')\n",
    "RDLogger.DisableLog('rdApp.*')\n",
    "from EFGs import mol2frag\n",
    "from rdkit import Chem\n",
    "from collections import Counter\n",
    "\n",
    "def extract_solution(solution_str: str) -> str:\n",
    "    \"\"\"\n",
    "    Extract the last <answer>...</answer> block from the solution string.\n",
    "    \"\"\"\n",
    "    matches = list(re.finditer(r\"<answer>(.*?)</answer>\", solution_str, re.DOTALL))\n",
    "    return matches[-1].group(1).strip() if matches else None\n",
    "\n",
    "\n",
    "def is_valid_smiles(smi: str) -> bool:\n",
    "    try:\n",
    "        mol = Chem.MolFromSmiles(smi)\n",
    "        return mol is not None\n",
    "    except:\n",
    "        return False\n",
    "\n",
    "\n",
    "def exact_string_match(pred_smi: str, gt_smi: str) -> float:\n",
    "    try:\n",
    "        can_pred = Chem.MolToSmiles(Chem.MolFromSmiles(pred_smi), canonical=True)\n",
    "        can_gt = Chem.MolToSmiles(Chem.MolFromSmiles(gt_smi), canonical=True)\n",
    "        return 1.0 if can_pred == can_gt else 0.0\n",
    "    except:\n",
    "        return 0.0\n",
    "\n",
    "\n",
    "def exact_structure_match(pred_smi: str, gt_smi: str) -> float:\n",
    "    try:\n",
    "        m1, m2 = Chem.MolFromSmiles(pred_smi), Chem.MolFromSmiles(gt_smi)\n",
    "        return 1.0 if Chem.MolToInchi(m1) == Chem.MolToInchi(m2) else 0.0\n",
    "    except:\n",
    "        return 0.0\n",
    "\n",
    "\n",
    "def property_similarity(pred_smi: str, gt_smi: str) -> float:\n",
    "    try:\n",
    "        mol1, mol2 = Chem.MolFromSmiles(pred_smi), Chem.MolFromSmiles(gt_smi)\n",
    "        props1 = np.array([Descriptors.MolWt(mol1), Descriptors.MolLogP(mol1), Descriptors.TPSA(mol1)])\n",
    "        props2 = np.array([Descriptors.MolWt(mol2), Descriptors.MolLogP(mol2), Descriptors.TPSA(mol2)])\n",
    "        diff = np.abs(props1 - props2)\n",
    "        return float(np.exp(-np.mean(diff) / 10))\n",
    "    except:\n",
    "        return 0.0\n",
    "\n",
    "\n",
    "def fingerprint_similarity_scores(pred_smi: str, gt_smi: str):\n",
    "    try:\n",
    "        mol1, mol2 = Chem.MolFromSmiles(pred_smi), Chem.MolFromSmiles(gt_smi)\n",
    "        maccs_sim = DataStructs.FingerprintSimilarity(MACCSkeys.GenMACCSKeys(mol1), MACCSkeys.GenMACCSKeys(mol2))\n",
    "        rdk_sim = DataStructs.FingerprintSimilarity(Chem.RDKFingerprint(mol1), Chem.RDKFingerprint(mol2))\n",
    "        morgan_sim = DataStructs.TanimotoSimilarity(\n",
    "            AllChem.GetMorganFingerprint(mol1, 2),\n",
    "            AllChem.GetMorganFingerprint(mol2, 2)\n",
    "        )\n",
    "        return maccs_sim, rdk_sim, morgan_sim\n",
    "    except:\n",
    "        return 0.0, 0.0, 0.0\n",
    "\n",
    "\n",
    "def smiles_levenshtein(pred_smi: str, gt_smi: str, normalize_len: int = 100) -> float:\n",
    "    try:\n",
    "        return 1.0 - lev(pred_smi, gt_smi) / normalize_len\n",
    "    except:\n",
    "        return 0.0\n",
    "\n",
    "\n",
    "# def compute_score(solution_str: str, ground_truth: str) -> float:\n",
    "    \n",
    "#     pred_smi = extract_solution(solution_str)\n",
    "#     if pred_smi is None:\n",
    "#         return 0.0  \n",
    "\n",
    "#     if not is_valid_smiles(pred_smi):\n",
    "#         return 0.0  \n",
    "    \n",
    "#     exact_text = exact_string_match(pred_smi, ground_truth)\n",
    "#     exact_struct = exact_structure_match(pred_smi, ground_truth)\n",
    "#     prop_sim = property_similarity(pred_smi, ground_truth)\n",
    "#     maccs_sim, rdk_sim, morgan_sim = fingerprint_similarity_scores(pred_smi, ground_truth)\n",
    "#     lev_sim = smiles_levenshtein(pred_smi, ground_truth)\n",
    "\n",
    "#     weights = {\n",
    "#         \"exact_text_match\": 0.85, # \n",
    "#         \"exact_struct_match\": 0.1,\n",
    "#         # \"morgan_similarity\": 0.15,\n",
    "#         # \"property_similarity\": 0.1,\n",
    "#         # \"smiles_levenshtein\": 0.05,\n",
    "#         # \"rdk_similarity\": 0.05,\n",
    "#         # \"maccs_similarity\": 0.05,\n",
    "#         \"format_text\": 0.05,\n",
    "#     }\n",
    "\n",
    "#     score = (\n",
    "#         weights[\"exact_text_match\"] * exact_text +\n",
    "#         weights[\"exact_struct_match\"] * exact_struct +\n",
    "#         # weights[\"property_similarity\"] * prop_sim +\n",
    "#         # weights[\"morgan_similarity\"] * morgan_sim +\n",
    "#         # weights[\"rdk_similarity\"] * rdk_sim +\n",
    "#         # weights[\"maccs_similarity\"] * maccs_sim +\n",
    "#         # weights[\"smiles_levenshtein\"] * lev_sim + \n",
    "#         weights[\"format_text\"] * 1\n",
    "#     )\n",
    "    \n",
    "#     return float(score)\n",
    "def compute_fragment_overlap(pred_smi: str, gt_smi: str) -> float:\n",
    "    try:\n",
    "        mol_pred = Chem.MolFromSmiles(pred_smi)\n",
    "        mol_gt = Chem.MolFromSmiles(gt_smi)\n",
    "        if mol_pred is None or mol_gt is None:\n",
    "            return 0.0\n",
    "\n",
    "        pred_nonCHs, pred_CHs = mol2frag(mol_pred)\n",
    "        gt_nonCHs, gt_CHs = mol2frag(mol_gt)\n",
    "\n",
    "        pred_frags = set(pred_nonCHs + pred_CHs)\n",
    "        gt_frags = set(gt_nonCHs + gt_CHs)\n",
    "\n",
    "        if not pred_frags or not gt_frags:\n",
    "            return 0.0\n",
    "\n",
    "        intersect = pred_frags & gt_frags\n",
    "        union = pred_frags | gt_frags\n",
    "        return len(intersect) / len(union)\n",
    "    except Exception as e:\n",
    "        print(f\"[fragment reward error] {e}\")\n",
    "        return 0.0\n",
    "def fragment_recall(pred_smi: str, gt_smi: str) -> float:\n",
    "    try:\n",
    "        mol_pred = Chem.MolFromSmiles(pred_smi)\n",
    "        mol_gt = Chem.MolFromSmiles(gt_smi)\n",
    "        pred_nonCHs, pred_CHs = mol2frag(mol_pred)\n",
    "        gt_nonCHs, gt_CHs = mol2frag(mol_gt)\n",
    "        pred_frags = set(pred_nonCHs + pred_CHs)\n",
    "        gt_frags = set(gt_nonCHs + gt_CHs)\n",
    "        if not gt_frags:\n",
    "            return 0.0\n",
    "        return len(pred_frags & gt_frags) / len(gt_frags)\n",
    "    except:\n",
    "        return 0.0\n",
    "\n",
    "\n",
    "def functional_group_count_diff(pred_smi: str, gt_smi: str) -> float:\n",
    "    try:\n",
    "        mol1 = Chem.MolFromSmiles(pred_smi)\n",
    "        mol2 = Chem.MolFromSmiles(gt_smi)\n",
    "        pred_nonCHs, _ = mol2frag(mol1)\n",
    "        gt_nonCHs, _ = mol2frag(mol2)\n",
    "        pred_count = Counter(pred_nonCHs)\n",
    "        gt_count = Counter(gt_nonCHs)\n",
    "        all_keys = set(pred_count) | set(gt_count)\n",
    "        diff_sum = sum(abs(pred_count[k] - gt_count[k]) for k in all_keys)\n",
    "        total = sum(gt_count.values()) + 1e-5\n",
    "        return float(np.exp(-diff_sum / total))  # 差异越小，reward 越高\n",
    "    except:\n",
    "        return 0.0\n",
    "\n",
    "\n",
    "def compute_score(solution_str: str, ground_truth: str) -> float:\n",
    "    pred_smi = extract_solution(solution_str)\n",
    "    if pred_smi is None or not is_valid_smiles(pred_smi):\n",
    "        return 0.0\n",
    "\n",
    "    exact_text = exact_string_match(pred_smi, ground_truth)\n",
    "    exact_struct = exact_structure_match(pred_smi, ground_truth)\n",
    "    maccs_sim, rdk_sim, morgan_sim = fingerprint_similarity_scores(pred_smi, ground_truth)\n",
    "    fp_score = 0.5 * morgan_sim + 0.25 * maccs_sim + 0.25 * rdk_sim\n",
    "\n",
    "    frag_jaccard = compute_fragment_overlap(pred_smi, ground_truth)\n",
    "    frag_recall_score = fragment_recall(pred_smi, ground_truth)\n",
    "    frag_score = 0.5 * frag_jaccard + 0.5 * frag_recall_score\n",
    "\n",
    "    group_score = functional_group_count_diff(pred_smi, ground_truth)\n",
    "\n",
    "    if exact_text == 1.0:\n",
    "        return 1.0\n",
    "    elif exact_struct == 1.0:\n",
    "        return 0.9\n",
    "    else:\n",
    "        return 0.1 + 0.3 * fp_score + 0.3 * frag_score + 0.3 * group_score"
   ]
  },
  {
   "cell_type": "code",
   "execution_count": 3,
   "id": "80e25345",
   "metadata": {},
   "outputs": [],
   "source": [
    "from IPython.display import SVG, Image\n",
    "from rdkit import Chem\n",
    "from rdkit.Chem import rdDepictor,Descriptors\n",
    "from rdkit.Chem.Draw import rdMolDraw2D\n",
    "import matplotlib.cm as cm\n",
    "from matplotlib.colors import Normalize\n",
    "import re\n",
    "from EFGs import mol2frag\n",
    "def prettymol(smiles, asMol=False, label=None, path='', imgsize=(300, 200), highlights=None):\n",
    "    '''\n",
    "    highlights is a dictionary, which may contains:\n",
    "    highlightAtoms: list\n",
    "    highlightBonds: list\n",
    "    highlightAtomRadii: dict[int]=float, atom index (int), radius (float)\n",
    "    highlightAtomColors: dict[int]=tuple, index (int), color (tuple, length=3)\n",
    "    highlightBondColors: dict[int]=tuple,index (int), color (tuple, length=3)\n",
    "    '''\n",
    "    if asMol:\n",
    "        mol = smiles.__copy__()\n",
    "    else:\n",
    "        mol = Chem.MolFromSmiles(smiles)\n",
    "    try:\n",
    "        mol = rdMolDraw2D.PrepareMolForDrawing(mol)\n",
    "        if '.png' in path:\n",
    "            drawer = rdMolDraw2D.MolDraw2DCairo(*imgsize)\n",
    "        else:\n",
    "            drawer = rdMolDraw2D.MolDraw2DSVG(*imgsize)\n",
    "        opts = drawer.drawOptions()\n",
    "        if label == 'map':\n",
    "            for i in range(mol.GetNumAtoms()):\n",
    "                opts.atomLabels[i] = mol.GetAtomWithIdx(\n",
    "                    i).GetSymbol()+str(mol.GetAtomWithIdx(i).GetAtomMapNum())\n",
    "        if label == 'idx':\n",
    "            for i in range(mol.GetNumAtoms()):\n",
    "                opts.atomLabels[i] = mol.GetAtomWithIdx(i).GetSymbol()+str(i)\n",
    "        if not highlights:\n",
    "            drawer.DrawMolecule(mol)\n",
    "        else:\n",
    "            drawer.DrawMolecule(mol, **highlights)\n",
    "        drawer.FinishDrawing()\n",
    "        if '.png' in path:\n",
    "            drawer.WriteDrawingText(path)\n",
    "            display(Image(path))\n",
    "        else:\n",
    "            svg = drawer.GetDrawingText()\n",
    "            display(SVG(svg.replace('svg:','')))\n",
    "            if '.svg' in path:\n",
    "                with open(path, 'w') as wf:\n",
    "                    print(svg, file=wf)\n",
    "        return drawer\n",
    "    except Exception as e:\n",
    "        print(\"Check your molecule!!!\",e)\n",
    "        return"
   ]
  },
  {
   "cell_type": "code",
   "execution_count": 19,
   "id": "91b18458",
   "metadata": {},
   "outputs": [
    {
     "data": {
      "text/plain": [
       "0.5970159904032096"
      ]
     },
     "execution_count": 19,
     "metadata": {},
     "output_type": "execute_result"
    }
   ],
   "source": [
    "test_smi = '  <answer> CC/C=C\\\\CC/C=C\\\\CC/C=C\\\\CC/C=C\\\\CC/C=C\\\\CC/C=C\\\\C(C)(C)C(=O)OC[C@H](CO)O[C@@H](O)C[C@@H](O)[C@H](O)[C@H](O)CC(=O)O </answer>'\n",
    "gt_smi = 'CC(C)=CCC/C(C)=C/CC/C(C)=C/CC/C(C)=C\\\\CC/C(C)=C\\\\CC/C(C)=C\\\\CC/C(C)=C\\\\CC/C(C)=C\\\\CC/C(C)=C\\\\CC/C(C)=C\\\\CC/C(C)=C\\\\CC/C(C)=C\\\\COP(=O)(O)O[C@@H]1O[C@H](C(=O)O)[C@H](O)[C@H](O)[C@H]1O'\n",
    "\n",
    "compute_score(test_smi, gt_smi)\n"
   ]
  },
  {
   "cell_type": "code",
   "execution_count": 20,
   "id": "dd9a09e6",
   "metadata": {},
   "outputs": [
    {
     "data": {
      "text/plain": [
       "0.7"
      ]
     },
     "execution_count": 20,
     "metadata": {},
     "output_type": "execute_result"
    }
   ],
   "source": [
    "compute_fragment_overlap(extract_solution(test_smi), gt_smi)"
   ]
  },
  {
   "cell_type": "code",
   "execution_count": 21,
   "id": "2f80887f",
   "metadata": {},
   "outputs": [
    {
     "data": {
      "text/plain": [
       "(0.5344827586206896, 0.35690968443960824, 0.18213058419243985)"
      ]
     },
     "execution_count": 21,
     "metadata": {},
     "output_type": "execute_result"
    }
   ],
   "source": [
    "fingerprint_similarity_scores(extract_solution(test_smi), gt_smi)"
   ]
  },
  {
   "cell_type": "code",
   "execution_count": 22,
   "id": "b03b9888",
   "metadata": {},
   "outputs": [
    {
     "data": {
      "text/plain": [
       "1.0"
      ]
     },
     "execution_count": 22,
     "metadata": {},
     "output_type": "execute_result"
    }
   ],
   "source": [
    "test_smi = ' <answer>  CC(C)=CCC/C(C)=C/CC/C(C)=C/CC/C(C)=C\\\\CC/C(C)=C\\\\CC/C(C)=C\\\\CC/C(C)=C\\\\CC/C(C)=C\\\\CC/C(C)=C\\\\CC/C(C)=C\\\\CC/C(C)=C\\\\CC/C(C)=C\\\\COP(=O)(O)O[C@@H]1O[C@H](C(=O)O)[C@H](O)[C@H](O)[C@H]1O  </answer>'\n",
    "gt_smi = 'CC(C)=CCC/C(C)=C/CC/C(C)=C/CC/C(C)=C\\\\CC/C(C)=C\\\\CC/C(C)=C\\\\CC/C(C)=C\\\\CC/C(C)=C\\\\CC/C(C)=C\\\\CC/C(C)=C\\\\CC/C(C)=C\\\\CC/C(C)=C\\\\COP(=O)(O)O[C@@H]1O[C@H](C(=O)O)[C@H](O)[C@H](O)[C@H]1O'\n",
    "\n",
    "compute_score(test_smi, gt_smi)\n"
   ]
  },
  {
   "cell_type": "code",
   "execution_count": 4,
   "id": "6b68fc7c",
   "metadata": {},
   "outputs": [
    {
     "name": "stderr",
     "output_type": "stream",
     "text": [
      "/tmp/ipykernel_1028582/1204710708.py:1: MatplotlibDeprecationWarning: The get_cmap function was deprecated in Matplotlib 3.7 and will be removed in 3.11. Use ``matplotlib.colormaps[name]`` or ``matplotlib.colormaps.get_cmap()`` or ``pyplot.get_cmap()`` instead.\n",
      "  my_cmap = cm.get_cmap('cool')\n"
     ]
    },
    {
     "data": {
      "image/png": "[encoded data removed]",
      "text/plain": [
       "<IPython.core.display.Image object>"
      ]
     },
     "metadata": {},
     "output_type": "display_data"
    },
    {
     "data": {
      "text/plain": [
       "<rdkit.Chem.Draw.rdMolDraw2D.MolDraw2DCairo at 0x7f4ba2588fe0>"
      ]
     },
     "execution_count": 4,
     "metadata": {},
     "output_type": "execute_result"
    }
   ],
   "source": [
    "my_cmap = cm.get_cmap('cool')\n",
    "patt = r'[C,H][0-9]{2}[0,-1,1]'\n",
    "# Get normalize function (takes data in range [vmin, vmax] -> [0, 1])\n",
    "my_norm = Normalize(vmin=0, vmax=100)\n",
    "\n",
    "smiles = test_smi\n",
    "mol = Chem.MolFromSmiles(smiles)\n",
    "\n",
    "a,b,c,d = mol2frag(mol, returnidx=True)\n",
    "atommap,bondmap = {}, {}\n",
    "for s,i in zip(a+b, c+d):\n",
    "    if re.match(patt, s):\n",
    "        m = Chem.MolFromSmiles(s[0])\n",
    "    else:\n",
    "        m = Chem.MolFromSmiles(s)\n",
    "    mw = Descriptors.HeavyAtomMolWt(m)\n",
    "    atommap.update({x:my_cmap(my_norm(mw))[:3] for x in i})\n",
    "\n",
    "for b in mol.GetBonds():\n",
    "    if atommap[b.GetBeginAtomIdx()] == atommap[b.GetEndAtomIdx()]:\n",
    "        bondmap[b.GetIdx()]=atommap[b.GetBeginAtomIdx()]\n",
    "\n",
    "highlights = {\n",
    "    \"highlightAtoms\": list(atommap.keys()),\n",
    "    \"highlightAtomColors\": atommap,\n",
    "    \"highlightBonds\": list(bondmap.keys()),\n",
    "    \"highlightBondColors\": bondmap,\n",
    "}\n",
    "\n",
    "prettymol(smiles, highlights=highlights,path='sample_mol.png')"
   ]
  },
  {
   "cell_type": "code",
   "execution_count": 5,
   "id": "26d14031",
   "metadata": {},
   "outputs": [
    {
     "name": "stderr",
     "output_type": "stream",
     "text": [
      "/tmp/ipykernel_1028582/3439270677.py:1: MatplotlibDeprecationWarning: The get_cmap function was deprecated in Matplotlib 3.7 and will be removed in 3.11. Use ``matplotlib.colormaps[name]`` or ``matplotlib.colormaps.get_cmap()`` or ``pyplot.get_cmap()`` instead.\n",
      "  my_cmap = cm.get_cmap('cool')\n"
     ]
    },
    {
     "data": {
      "image/png": "[encoded data removed]",
      "text/plain": [
       "<IPython.core.display.Image object>"
      ]
     },
     "metadata": {},
     "output_type": "display_data"
    },
    {
     "data": {
      "text/plain": [
       "<rdkit.Chem.Draw.rdMolDraw2D.MolDraw2DCairo at 0x7f4ba3bccae0>"
      ]
     },
     "execution_count": 5,
     "metadata": {},
     "output_type": "execute_result"
    }
   ],
   "source": [
    "my_cmap = cm.get_cmap('cool')\n",
    "patt = r'[C,H][0-9]{2}[0,-1,1]'\n",
    "# Get normalize function (takes data in range [vmin, vmax] -> [0, 1])\n",
    "my_norm = Normalize(vmin=0, vmax=100)\n",
    "\n",
    "smiles = gt_smi\n",
    "mol = Chem.MolFromSmiles(smiles)\n",
    "\n",
    "a,b,c,d = mol2frag(mol, returnidx=True)\n",
    "atommap,bondmap = {}, {}\n",
    "for s,i in zip(a+b, c+d):\n",
    "    if re.match(patt, s):\n",
    "        m = Chem.MolFromSmiles(s[0])\n",
    "    else:\n",
    "        m = Chem.MolFromSmiles(s)\n",
    "    mw = Descriptors.HeavyAtomMolWt(m)\n",
    "    atommap.update({x:my_cmap(my_norm(mw))[:3] for x in i})\n",
    "\n",
    "for b in mol.GetBonds():\n",
    "    if atommap[b.GetBeginAtomIdx()] == atommap[b.GetEndAtomIdx()]:\n",
    "        bondmap[b.GetIdx()]=atommap[b.GetBeginAtomIdx()]\n",
    "\n",
    "highlights = {\n",
    "    \"highlightAtoms\": list(atommap.keys()),\n",
    "    \"highlightAtomColors\": atommap,\n",
    "    \"highlightBonds\": list(bondmap.keys()),\n",
    "    \"highlightBondColors\": bondmap,\n",
    "}\n",
    "\n",
    "prettymol(smiles, highlights=highlights,path='sample_mol.png')"
   ]
  }
 ],
 "metadata": {
  "kernelspec": {
   "display_name": "base",
   "language": "python",
   "name": "python3"
  },
  "language_info": {
   "codemirror_mode": {
    "name": "ipython",
    "version": 3
   },
   "file_extension": ".py",
   "mimetype": "text/x-python",
   "name": "python",
   "nbconvert_exporter": "python",
   "pygments_lexer": "ipython3",
   "version": "3.10.15"
  }
 },
 "nbformat": 4,
 "nbformat_minor": 5
}
